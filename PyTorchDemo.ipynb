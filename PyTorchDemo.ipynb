{
 "cells": [
  {
   "cell_type": "markdown",
   "id": "13c958ee-9f59-4065-a1a6-cd1a991b2c8c",
   "metadata": {},
   "source": [
    "# PyTorch Demo"
   ]
  },
  {
   "cell_type": "markdown",
   "id": "abcdd4a3-12aa-4597-b1c0-8c5c5eab3b72",
   "metadata": {},
   "source": [
    "# Imports & Setup"
   ]
  },
  {
   "cell_type": "code",
   "execution_count": 1,
   "id": "e3c637de-5c5a-4f3d-9106-f6ecea8c8254",
   "metadata": {},
   "outputs": [],
   "source": [
    "import numpy as np\n",
    "import matplotlib.pyplot as plt\n",
    "\n",
    "import torch\n",
    "from torch import nn\n",
    "from torch.utils.data import DataLoader\n",
    "\n",
    "from torchvision.datasets import MNIST\n",
    "from torchvision import transforms\n",
    "\n",
    "from sklearn.metrics import confusion_matrix"
   ]
  },
  {
   "cell_type": "markdown",
   "id": "f1491fb6-3929-4f9a-a021-6a92f7badfc5",
   "metadata": {},
   "source": [
    "### Check Cuda Availability"
   ]
  },
  {
   "cell_type": "code",
   "execution_count": 2,
   "id": "0ee15525-1739-46f5-b7a9-f87444759d7d",
   "metadata": {},
   "outputs": [
    {
     "name": "stdout",
     "output_type": "stream",
     "text": [
      "CUDA Available: False\n"
     ]
    }
   ],
   "source": [
    "cuda_available = torch.cuda.is_available()\n",
    "print(f'CUDA Available: {cuda_available}')\n",
    "if cuda_available:\n",
    "    print(torch.cuda.get_device_name(0))"
   ]
  },
  {
   "cell_type": "markdown",
   "id": "047d4ddf-85e1-4aa1-8560-ca252fe70c8e",
   "metadata": {},
   "source": [
    "# Data Loading & Preprocessing"
   ]
  },
  {
   "cell_type": "markdown",
   "id": "0b8bf58c-4ce6-4bc1-8970-fbff9ceab144",
   "metadata": {},
   "source": [
    "### Dataset Transforms"
   ]
  },
  {
   "cell_type": "code",
   "execution_count": 3,
   "id": "5b50d73d-f9cc-4071-ae9b-3b3fa3dece6b",
   "metadata": {},
   "outputs": [],
   "source": [
    "transform = transforms.Compose([\n",
    "    transforms.ToTensor(),                                 # Transform images to tensors\n",
    "    lambda image: image.view(image.size(1), image.size(2)) # Remove color channel dimension, since we only have black and white\n",
    "])"
   ]
  },
  {
   "cell_type": "markdown",
   "id": "d54333f5-f326-4442-b95a-18a15c83b995",
   "metadata": {},
   "source": [
    "### Getting the data, transforming, and loading it"
   ]
  },
  {
   "cell_type": "code",
   "execution_count": 4,
   "id": "1fcf9f38-be09-4734-a03a-2fe3a441fae4",
   "metadata": {
    "tags": []
   },
   "outputs": [],
   "source": [
    "mnist_train = MNIST(root=\"./\", train=True, download=True, transform=transform)\n",
    "mnist_test = MNIST(root=\"./\", train=False, download=True, transform=transform)\n",
    "\n",
    "train_loader = DataLoader(mnist_train, batch_size=10000, shuffle=True)\n",
    "test_loader = DataLoader(mnist_test, batch_size=10000, shuffle=True)"
   ]
  },
  {
   "cell_type": "markdown",
   "id": "26f41381-6395-4769-8874-bcf60087ea95",
   "metadata": {},
   "source": [
    "### Example input"
   ]
  },
  {
   "cell_type": "code",
   "execution_count": 5,
   "id": "8e1ab27a-cd64-4d5b-9388-e02bed847b47",
   "metadata": {
    "tags": []
   },
   "outputs": [
    {
     "name": "stdout",
     "output_type": "stream",
     "text": [
      "type: <class 'torch.Tensor'>\n",
      "shape: torch.Size([28, 28])\n",
      "raw data: tensor([[0.0000, 0.0000, 0.0000, 0.0000, 0.0000, 0.0000, 0.0000, 0.0000, 0.0000,\n",
      "         0.0000, 0.0000, 0.0000, 0.0000, 0.0000, 0.0000, 0.0000, 0.0000, 0.0000,\n",
      "         0.0000, 0.0000, 0.0000, 0.0000, 0.0000, 0.0000, 0.0000, 0.0000, 0.0000,\n",
      "         0.0000],\n",
      "        [0.0000, 0.0000, 0.0000, 0.0000, 0.0000, 0.0000, 0.0000, 0.0000, 0.0000,\n",
      "         0.0000, 0.0000, 0.0000, 0.0000, 0.0000, 0.0000, 0.0000, 0.0000, 0.0000,\n",
      "         0.0000, 0.0000, 0.0000, 0.0000, 0.0000, 0.0000, 0.0000, 0.0000, 0.0000,\n",
      "         0.0000],\n",
      "        [0.0000, 0.0000, 0.0000, 0.0000, 0.0000, 0.0000, 0.0000, 0.0000, 0.0000,\n",
      "         0.0000, 0.0000, 0.0000, 0.0000, 0.0000, 0.0000, 0.0000, 0.0000, 0.0000,\n",
      "         0.0000, 0.0000, 0.0000, 0.0000, 0.0000, 0.0000, 0.0000, 0.0000, 0.0000,\n",
      "         0.0000],\n",
      "        [0.0000, 0.0000, 0.0000, 0.0000, 0.0000, 0.0000, 0.0000, 0.0000, 0.0000,\n",
      "         0.0000, 0.0000, 0.0000, 0.0000, 0.0000, 0.0000, 0.0000, 0.0000, 0.0000,\n",
      "         0.0000, 0.0000, 0.0000, 0.0000, 0.0000, 0.0000, 0.0000, 0.0000, 0.0000,\n",
      "         0.0000],\n",
      "        [0.0000, 0.0000, 0.0000, 0.0000, 0.0000, 0.0000, 0.0000, 0.0000, 0.0000,\n",
      "         0.0000, 0.0000, 0.0000, 0.0000, 0.0000, 0.0000, 0.0000, 0.0000, 0.0000,\n",
      "         0.0000, 0.0000, 0.0000, 0.0000, 0.0000, 0.0000, 0.0000, 0.0000, 0.0000,\n",
      "         0.0000],\n",
      "        [0.0000, 0.0000, 0.0000, 0.0000, 0.0000, 0.0000, 0.0000, 0.0000, 0.0000,\n",
      "         0.0000, 0.0000, 0.0000, 0.0000, 0.0000, 0.0000, 0.0000, 0.0000, 0.0000,\n",
      "         0.0000, 0.0000, 0.0000, 0.0000, 0.0000, 0.0000, 0.0000, 0.0000, 0.0000,\n",
      "         0.0000],\n",
      "        [0.0000, 0.0000, 0.0000, 0.0000, 0.0000, 0.0000, 0.0000, 0.0000, 0.0000,\n",
      "         0.0000, 0.0000, 0.0000, 0.0000, 0.0000, 0.0000, 0.0000, 0.0000, 0.0000,\n",
      "         0.0000, 0.0000, 0.0000, 0.0000, 0.0000, 0.0000, 0.0000, 0.0000, 0.0000,\n",
      "         0.0000],\n",
      "        [0.0000, 0.0000, 0.0000, 0.0000, 0.0000, 0.0000, 0.0000, 0.0000, 0.0000,\n",
      "         0.2353, 0.5294, 0.3020, 0.0235, 0.0000, 0.1059, 0.1294, 0.1882, 0.4353,\n",
      "         0.7725, 0.1608, 0.1059, 0.7725, 0.8941, 0.2980, 0.0000, 0.0000, 0.0000,\n",
      "         0.0000],\n",
      "        [0.0000, 0.0000, 0.0000, 0.0000, 0.0000, 0.0000, 0.0000, 0.0000, 0.3804,\n",
      "         0.9804, 0.9961, 0.9961, 0.9490, 0.9451, 0.9608, 0.9647, 0.8471, 0.8627,\n",
      "         0.9961, 0.8431, 0.9529, 0.9961, 0.9961, 0.9765, 0.0000, 0.0000, 0.0000,\n",
      "         0.0000],\n",
      "        [0.0000, 0.0000, 0.0000, 0.0000, 0.0000, 0.0000, 0.0000, 0.1961, 0.9725,\n",
      "         0.9961, 0.9961, 0.7725, 0.5294, 0.8000, 0.7451, 0.8000, 0.8706, 0.6902,\n",
      "         0.4549, 0.3804, 0.2471, 0.9961, 0.9961, 0.8039, 0.0000, 0.0000, 0.0000,\n",
      "         0.0000],\n",
      "        [0.0000, 0.0000, 0.0000, 0.0000, 0.0000, 0.0000, 0.1451, 0.8627, 0.9961,\n",
      "         0.9961, 0.6588, 0.0627, 0.0000, 0.0000, 0.0549, 0.0000, 0.0549, 0.0000,\n",
      "         0.0000, 0.0314, 0.6431, 0.9961, 0.9882, 0.3098, 0.0000, 0.0000, 0.0000,\n",
      "         0.0000],\n",
      "        [0.0000, 0.0000, 0.0000, 0.0000, 0.0000, 0.1412, 0.8627, 0.9961, 0.9961,\n",
      "         0.6706, 0.1765, 0.0000, 0.0000, 0.0000, 0.0000, 0.0000, 0.0000, 0.0000,\n",
      "         0.0000, 0.2431, 0.9961, 0.9961, 0.7882, 0.0000, 0.0000, 0.0000, 0.0000,\n",
      "         0.0000],\n",
      "        [0.0000, 0.0000, 0.0000, 0.0000, 0.1412, 0.8745, 0.9961, 0.9961, 0.7804,\n",
      "         0.0706, 0.0000, 0.0000, 0.0000, 0.0000, 0.0000, 0.0000, 0.0000, 0.0000,\n",
      "         0.2078, 0.8824, 0.9961, 0.9529, 0.2431, 0.0000, 0.0000, 0.0000, 0.0000,\n",
      "         0.0000],\n",
      "        [0.0000, 0.0000, 0.0000, 0.0000, 1.0000, 0.9961, 0.9961, 0.8314, 0.1412,\n",
      "         0.0000, 0.0000, 0.0000, 0.0000, 0.0000, 0.0000, 0.0000, 0.0000, 0.3373,\n",
      "         0.8745, 0.9961, 0.9412, 0.4706, 0.0000, 0.0000, 0.0000, 0.0000, 0.0000,\n",
      "         0.0000],\n",
      "        [0.0000, 0.0000, 0.0000, 0.0000, 0.7176, 0.9804, 0.6745, 0.0627, 0.0000,\n",
      "         0.0000, 0.0000, 0.0000, 0.0000, 0.0000, 0.0000, 0.0000, 0.2353, 0.8745,\n",
      "         0.9961, 0.9961, 0.7373, 0.0000, 0.0000, 0.0000, 0.0000, 0.0000, 0.0000,\n",
      "         0.0000],\n",
      "        [0.0000, 0.0000, 0.0000, 0.0000, 0.0000, 0.0667, 0.0078, 0.0000, 0.0000,\n",
      "         0.0000, 0.0000, 0.0000, 0.0000, 0.0000, 0.0000, 0.0196, 0.6353, 0.9961,\n",
      "         0.9961, 0.7922, 0.0824, 0.0000, 0.0000, 0.0000, 0.0000, 0.0000, 0.0000,\n",
      "         0.0000],\n",
      "        [0.0000, 0.0000, 0.0000, 0.0000, 0.0000, 0.0000, 0.0000, 0.0000, 0.0000,\n",
      "         0.0000, 0.0000, 0.0000, 0.0000, 0.0000, 0.0000, 0.5608, 0.9961, 0.9961,\n",
      "         0.8549, 0.0824, 0.0000, 0.0000, 0.0000, 0.0000, 0.0000, 0.0000, 0.0000,\n",
      "         0.0000],\n",
      "        [0.0000, 0.0000, 0.0000, 0.0000, 0.0000, 0.0000, 0.0000, 0.0000, 0.0000,\n",
      "         0.0000, 0.0000, 0.0000, 0.0000, 0.0000, 0.3804, 0.9294, 0.9961, 0.9961,\n",
      "         0.5216, 0.0000, 0.0000, 0.0000, 0.0000, 0.0000, 0.0000, 0.0000, 0.0000,\n",
      "         0.0000],\n",
      "        [0.0000, 0.0000, 0.0000, 0.0000, 0.0000, 0.0000, 0.0000, 0.0000, 0.0000,\n",
      "         0.0000, 0.0000, 0.0000, 0.0000, 0.0392, 0.4431, 0.8667, 0.9961, 0.7255,\n",
      "         0.0078, 0.0000, 0.0000, 0.0000, 0.0000, 0.0000, 0.0000, 0.0000, 0.0000,\n",
      "         0.0000],\n",
      "        [0.0000, 0.0000, 0.0000, 0.0000, 0.0000, 0.0000, 0.0000, 0.0000, 0.0000,\n",
      "         0.0000, 0.0000, 0.0000, 0.2235, 0.8235, 0.9961, 0.9961, 0.7216, 0.0941,\n",
      "         0.0000, 0.0000, 0.0000, 0.0000, 0.0000, 0.0000, 0.0000, 0.0000, 0.0000,\n",
      "         0.0000],\n",
      "        [0.0000, 0.0000, 0.0000, 0.0000, 0.0000, 0.0000, 0.0000, 0.0000, 0.0000,\n",
      "         0.0000, 0.0000, 0.5333, 0.9725, 0.9961, 0.9569, 0.5294, 0.0941, 0.0000,\n",
      "         0.0000, 0.0000, 0.0000, 0.0000, 0.0000, 0.0000, 0.0000, 0.0000, 0.0000,\n",
      "         0.0000],\n",
      "        [0.0000, 0.0000, 0.0000, 0.0000, 0.0000, 0.0000, 0.0000, 0.0000, 0.0000,\n",
      "         0.2078, 0.8549, 0.9922, 0.9961, 0.9490, 0.3961, 0.0000, 0.0000, 0.0000,\n",
      "         0.0000, 0.0000, 0.0000, 0.0000, 0.0000, 0.0000, 0.0000, 0.0000, 0.0000,\n",
      "         0.0000],\n",
      "        [0.0000, 0.0000, 0.0000, 0.0000, 0.0000, 0.0000, 0.0000, 0.0000, 0.0941,\n",
      "         0.7882, 0.9961, 0.9961, 0.7922, 0.2353, 0.0000, 0.0000, 0.0000, 0.0000,\n",
      "         0.0000, 0.0000, 0.0000, 0.0000, 0.0000, 0.0000, 0.0000, 0.0000, 0.0000,\n",
      "         0.0000],\n",
      "        [0.0000, 0.0000, 0.0000, 0.0000, 0.0000, 0.0000, 0.0000, 0.0235, 0.7725,\n",
      "         0.9961, 0.9961, 0.7961, 0.2078, 0.0000, 0.0000, 0.0000, 0.0000, 0.0000,\n",
      "         0.0000, 0.0000, 0.0000, 0.0000, 0.0000, 0.0000, 0.0000, 0.0000, 0.0000,\n",
      "         0.0000],\n",
      "        [0.0000, 0.0000, 0.0000, 0.0000, 0.0000, 0.0000, 0.0235, 0.7216, 0.9961,\n",
      "         0.9961, 0.8039, 0.0745, 0.0000, 0.0000, 0.0000, 0.0000, 0.0000, 0.0000,\n",
      "         0.0000, 0.0000, 0.0000, 0.0000, 0.0000, 0.0000, 0.0000, 0.0000, 0.0000,\n",
      "         0.0000],\n",
      "        [0.0000, 0.0000, 0.0000, 0.0000, 0.0000, 0.0000, 0.7216, 0.9961, 0.9961,\n",
      "         0.8196, 0.1882, 0.0000, 0.0000, 0.0000, 0.0000, 0.0000, 0.0000, 0.0000,\n",
      "         0.0000, 0.0000, 0.0000, 0.0000, 0.0000, 0.0000, 0.0000, 0.0000, 0.0000,\n",
      "         0.0000],\n",
      "        [0.0000, 0.0000, 0.0000, 0.0000, 0.0000, 0.0902, 0.6118, 0.6431, 0.6118,\n",
      "         0.0784, 0.0000, 0.0000, 0.0000, 0.0000, 0.0000, 0.0000, 0.0000, 0.0000,\n",
      "         0.0000, 0.0000, 0.0000, 0.0000, 0.0000, 0.0000, 0.0000, 0.0000, 0.0000,\n",
      "         0.0000],\n",
      "        [0.0000, 0.0000, 0.0000, 0.0000, 0.0000, 0.0000, 0.0000, 0.0000, 0.0000,\n",
      "         0.0000, 0.0000, 0.0000, 0.0000, 0.0000, 0.0000, 0.0000, 0.0000, 0.0000,\n",
      "         0.0000, 0.0000, 0.0000, 0.0000, 0.0000, 0.0000, 0.0000, 0.0000, 0.0000,\n",
      "         0.0000]])\n"
     ]
    }
   ],
   "source": [
    "for images, labels in test_loader:\n",
    "    sample_image = images[0]\n",
    "    sample_label = labels[0]\n",
    "    break\n",
    "\n",
    "print('type:', type(sample_image))\n",
    "print('shape:', sample_image.shape)\n",
    "print('raw data:', sample_image)"
   ]
  },
  {
   "cell_type": "markdown",
   "id": "40abf7f8-6de0-428c-af7f-f55f7ddbc341",
   "metadata": {},
   "source": [
    "### Example visual"
   ]
  },
  {
   "cell_type": "code",
   "execution_count": 6,
   "id": "0bfa4502-5eeb-4e0d-a11d-4eecf80fcbc6",
   "metadata": {},
   "outputs": [
    {
     "name": "stdout",
     "output_type": "stream",
     "text": [
      "sample lable: tensor(7)\n"
     ]
    },
    {
     "data": {
      "text/plain": "<Figure size 640x480 with 1 Axes>",
      "image/png": "[encoded data removed]"
     },
     "metadata": {},
     "output_type": "display_data"
    }
   ],
   "source": [
    "plt.imshow(sample_image, cmap=\"gray\")\n",
    "\n",
    "print('sample lable:', sample_label) # Label tensor\n",
    "plt.show()"
   ]
  },
  {
   "cell_type": "markdown",
   "id": "28350c24-782e-414e-9445-16c7d6c6cb9f",
   "metadata": {},
   "source": [
    "### Reshaping example"
   ]
  },
  {
   "cell_type": "code",
   "execution_count": 7,
   "id": "18e90f61-e7a5-49dc-a647-fb9f5c396eac",
   "metadata": {},
   "outputs": [
    {
     "name": "stdout",
     "output_type": "stream",
     "text": [
      "original shape: torch.Size([28, 28])\n",
      "reshaped using `view`: torch.Size([784])\n",
      "reshaped using `reshape`: torch.Size([784])\n",
      "reshaped using `flatten`: torch.Size([784])\n"
     ]
    }
   ],
   "source": [
    "print('original shape:', sample_image.shape)                                                              # Original shape\n",
    "print('reshaped using `view`:', sample_image.view(sample_image.size(0)*sample_image.size(1)).shape)       # View to change shape\n",
    "print('reshaped using `reshape`:', sample_image.reshape(sample_image.size(0)*sample_image.size(1)).shape) # Reshape to change shape\n",
    "print('reshaped using `flatten`:', sample_image.flatten().shape)                                          # Flatten to change shape"
   ]
  },
  {
   "cell_type": "markdown",
   "id": "acb9ae17-403b-4dd4-af5e-1fe9bf77b499",
   "metadata": {},
   "source": [
    "# Neural Network Model"
   ]
  },
  {
   "cell_type": "code",
   "execution_count": 8,
   "id": "45fa0b4e-c32c-4b7d-b2e3-8ed910d1f8a1",
   "metadata": {},
   "outputs": [],
   "source": [
    "class Model(nn.Module):\n",
    "    # Model initialization\n",
    "    def __init__(self):\n",
    "        super(Model, self).__init__()\n",
    "\n",
    "        # Hidden layer initialization\n",
    "        self.hidden1 = nn.Linear(28*28, 100)\n",
    "        self.hidden2 = nn.Linear(100, 100)\n",
    "        self.hidden3 = nn.Linear(100, 100)\n",
    "\n",
    "        # Output layer initialization\n",
    "        self.out = nn.Linear(100, 10)\n",
    "\n",
    "        # Activation functions\n",
    "        self.relu = nn.ReLU()            # ReLU activation function used on hidden layers\n",
    "        self.softmax = nn.Softmax(dim=1) # SoftMax activation function used on output layer; All values in [0,1] and must sum to 1\n",
    "        \n",
    "    # Model operation\n",
    "    def forward(self, x):\n",
    "        h1 = self.relu(self.hidden1(x))   # hidden layer 1, relu activation\n",
    "        h2 = self.relu(self.hidden2(h1))  # hidden layer 2, relu activation\n",
    "        h3 = self.relu(self.hidden3(h2))  # hidden layer 3, relu activation\n",
    "        return self.softmax(self.out(h3)) # output layer, softmax activation function"
   ]
  },
  {
   "cell_type": "markdown",
   "id": "c4981463-e2e9-4f20-b396-cdb1c237ce4d",
   "metadata": {},
   "source": [
    "### Model Initialization"
   ]
  },
  {
   "cell_type": "code",
   "execution_count": 9,
   "id": "b1555865-490d-46ac-894e-1de0790a7e64",
   "metadata": {},
   "outputs": [
    {
     "name": "stdout",
     "output_type": "stream",
     "text": [
      "Model(\n",
      "  (hidden1): Linear(in_features=784, out_features=100, bias=True)\n",
      "  (hidden2): Linear(in_features=100, out_features=100, bias=True)\n",
      "  (hidden3): Linear(in_features=100, out_features=100, bias=True)\n",
      "  (out): Linear(in_features=100, out_features=10, bias=True)\n",
      "  (relu): ReLU()\n",
      "  (softmax): Softmax(dim=1)\n",
      ")\n"
     ]
    }
   ],
   "source": [
    "model = Model()\n",
    "if cuda_available:\n",
    "    model.cuda()\n",
    "\n",
    "print(model)"
   ]
  },
  {
   "cell_type": "markdown",
   "id": "a6df0c86-ec31-4ba9-b6da-48634eddaded",
   "metadata": {},
   "source": [
    "### Training Protocol Initialization"
   ]
  },
  {
   "cell_type": "code",
   "execution_count": 10,
   "id": "6793471c-24d2-4042-9f39-ee643750556f",
   "metadata": {},
   "outputs": [
    {
     "name": "stdout",
     "output_type": "stream",
     "text": [
      "label counts: [5923 6742 5958 6131 5842 5421 5918 6265 5851 5949]\n",
      "class weights: tensor([1.1383, 1.0000, 1.1316, 1.0997, 1.1541, 1.2437, 1.1392, 1.0761, 1.1523,\n",
      "        1.1333])\n"
     ]
    }
   ],
   "source": [
    "counts = np.unique(mnist_train.targets, return_counts=True)[1] # get number of occurrences of each label\n",
    "weights = torch.from_numpy(np.max(counts)/counts).float()      # compute relative weights for each label\n",
    "\n",
    "# weights are used to ensure the model isn't biased towards more common labels\n",
    "\n",
    "if cuda_available:\n",
    "    weights = weights.cuda()\n",
    "    \n",
    "print('label counts:', counts)\n",
    "print('class weights:', weights)"
   ]
  },
  {
   "cell_type": "code",
   "execution_count": 11,
   "id": "5d853bcf-b176-44ba-87f6-e1c9945b5c3a",
   "metadata": {},
   "outputs": [],
   "source": [
    "criterion = nn.CrossEntropyLoss(weight=weights)       # Loss function\n",
    "optim = torch.optim.Adam(model.parameters(), lr=1e-3) # Optimizer\n",
    "\n",
    "# Learning Rate scheduler (OPTIONAL)\n",
    "scheduler = torch.optim.lr_scheduler.ReduceLROnPlateau(optim, factor=0.1, patience=5, verbose=True)"
   ]
  },
  {
   "cell_type": "markdown",
   "id": "c5387e9d-5c9f-4c0c-bb0e-1d89922e07b6",
   "metadata": {},
   "source": [
    "# Model Training"
   ]
  },
  {
   "cell_type": "markdown",
   "id": "40f51dad-612b-4c28-b173-3d061e1fbadb",
   "metadata": {},
   "source": [
    "### Defining training function"
   ]
  },
  {
   "cell_type": "code",
   "execution_count": 12,
   "outputs": [],
   "source": [
    "# Run a single epoch\n",
    "def run_epoch(train):\n",
    "    if train:\n",
    "        model.train()\n",
    "        loader = train_loader\n",
    "    else:\n",
    "        model.eval()\n",
    "        loader = test_loader\n",
    "\n",
    "    # LOGGING\n",
    "    total_loss = 0.                # Total epoch loss\n",
    "    confusion = np.zeros((10, 10)) # Used for tracking accuracy (10 because of 10 labels)\n",
    "\n",
    "    for x, y in loader:\n",
    "        if cuda_available: # Move tensors over to cuda if present\n",
    "            x = x.cuda()\n",
    "            y = y.cuda()\n",
    "\n",
    "        # Data in the loader is 28x28, but our model expects a flattened tensor\n",
    "        x = x.flatten(start_dim=1, end_dim=2)\n",
    "\n",
    "        # Put data through model, get predictions. This calls the forward() function!\n",
    "        predictions = model(x)\n",
    "\n",
    "        # Calculate loss (how wrong our predictions are)\n",
    "        loss = criterion(predictions, y)\n",
    "\n",
    "        if train:\n",
    "            optim.zero_grad() # Reset gradients\n",
    "            loss.backward()   # Calculate new gradients\n",
    "            optim.step()      # Run optimizer & update weights and biases\n",
    "\n",
    "        # LOGGING\n",
    "        total_loss += loss.item() * predictions.size(0)\n",
    "        confusion += confusion_matrix(y, predictions.argmax(dim=1), labels=range(10))\n",
    "\n",
    "    if not train:\n",
    "        scheduler.step(total_loss) # Run learning rate scheduler on\n",
    "\n",
    "    return total_loss / len(loader.dataset), \\\n",
    "           confusion.diagonal().sum() / confusion.sum(), \\\n",
    "           (confusion.diagonal() / confusion.sum(axis=1)).mean()"
   ],
   "metadata": {
    "collapsed": false,
    "pycharm": {
     "name": "#%%\n"
    }
   }
  },
  {
   "cell_type": "markdown",
   "id": "4c09690c-f632-42f1-ac9f-a791b702a5c9",
   "metadata": {},
   "source": [
    "### Training"
   ]
  },
  {
   "cell_type": "code",
   "execution_count": 13,
   "id": "86214250-9045-41ae-830f-576061a98411",
   "metadata": {},
   "outputs": [],
   "source": [
    "epochs = 100\n",
    "print_frequency = 5"
   ]
  },
  {
   "cell_type": "code",
   "execution_count": 14,
   "id": "37cfec74-d99f-412b-8d7c-0e132154ce8d",
   "metadata": {},
   "outputs": [
    {
     "name": "stdout",
     "output_type": "stream",
     "text": [
      "------------------------------------------------------------------------------------------------------------------------\n",
      "Epoch: 5/100\t| Training Loss: 1.9736\t| Training Accuracy: 0.6385\t| Training Balanced Accuracy: 0.6295\n",
      "\t\t\t\t| Test Loss: 1.8909\t\t| Test Accuracy: 0.6916\t\t| Test Balanced Accuracy: 0.6800\n",
      "------------------------------------------------------------------------------------------------------------------------\n",
      "Epoch: 10/100\t| Training Loss: 1.6793\t| Training Accuracy: 0.8037\t| Training Balanced Accuracy: 0.7945\n",
      "\t\t\t\t| Test Loss: 1.6671\t\t| Test Accuracy: 0.8136\t\t| Test Balanced Accuracy: 0.8036\n",
      "------------------------------------------------------------------------------------------------------------------------\n",
      "Epoch: 15/100\t| Training Loss: 1.6417\t| Training Accuracy: 0.8351\t| Training Balanced Accuracy: 0.8259\n",
      "\t\t\t\t| Test Loss: 1.6358\t\t| Test Accuracy: 0.8393\t\t| Test Balanced Accuracy: 0.8290\n",
      "------------------------------------------------------------------------------------------------------------------------\n",
      "Epoch: 20/100\t| Training Loss: 1.6277\t| Training Accuracy: 0.8473\t| Training Balanced Accuracy: 0.8381\n",
      "\t\t\t\t| Test Loss: 1.6238\t\t| Test Accuracy: 0.8507\t\t| Test Balanced Accuracy: 0.8405\n",
      "------------------------------------------------------------------------------------------------------------------------\n",
      "Epoch: 25/100\t| Training Loss: 1.6190\t| Training Accuracy: 0.8552\t| Training Balanced Accuracy: 0.8460\n",
      "\t\t\t\t| Test Loss: 1.6166\t\t| Test Accuracy: 0.8580\t\t| Test Balanced Accuracy: 0.8476\n",
      "------------------------------------------------------------------------------------------------------------------------\n",
      "Epoch: 30/100\t| Training Loss: 1.6127\t| Training Accuracy: 0.8612\t| Training Balanced Accuracy: 0.8520\n",
      "\t\t\t\t| Test Loss: 1.6118\t\t| Test Accuracy: 0.8618\t\t| Test Balanced Accuracy: 0.8514\n",
      "------------------------------------------------------------------------------------------------------------------------\n",
      "Epoch: 35/100\t| Training Loss: 1.6081\t| Training Accuracy: 0.8656\t| Training Balanced Accuracy: 0.8563\n",
      "\t\t\t\t| Test Loss: 1.6086\t\t| Test Accuracy: 0.8642\t\t| Test Balanced Accuracy: 0.8538\n",
      "------------------------------------------------------------------------------------------------------------------------\n",
      "Epoch: 40/100\t| Training Loss: 1.6041\t| Training Accuracy: 0.8696\t| Training Balanced Accuracy: 0.8603\n",
      "\t\t\t\t| Test Loss: 1.6061\t\t| Test Accuracy: 0.8658\t\t| Test Balanced Accuracy: 0.8554\n",
      "------------------------------------------------------------------------------------------------------------------------\n",
      "Epoch: 45/100\t| Training Loss: 1.6007\t| Training Accuracy: 0.8723\t| Training Balanced Accuracy: 0.8630\n",
      "\t\t\t\t| Test Loss: 1.6043\t\t| Test Accuracy: 0.8675\t\t| Test Balanced Accuracy: 0.8570\n",
      "------------------------------------------------------------------------------------------------------------------------\n",
      "Epoch: 50/100\t| Training Loss: 1.5982\t| Training Accuracy: 0.8745\t| Training Balanced Accuracy: 0.8652\n",
      "\t\t\t\t| Test Loss: 1.6023\t\t| Test Accuracy: 0.8686\t\t| Test Balanced Accuracy: 0.8582\n",
      "------------------------------------------------------------------------------------------------------------------------\n",
      "Epoch: 55/100\t| Training Loss: 1.5955\t| Training Accuracy: 0.8773\t| Training Balanced Accuracy: 0.8680\n",
      "\t\t\t\t| Test Loss: 1.6010\t\t| Test Accuracy: 0.8705\t\t| Test Balanced Accuracy: 0.8600\n",
      "------------------------------------------------------------------------------------------------------------------------\n",
      "Epoch: 60/100\t| Training Loss: 1.5936\t| Training Accuracy: 0.8789\t| Training Balanced Accuracy: 0.8696\n",
      "\t\t\t\t| Test Loss: 1.5995\t\t| Test Accuracy: 0.8707\t\t| Test Balanced Accuracy: 0.8603\n",
      "------------------------------------------------------------------------------------------------------------------------\n",
      "Epoch: 65/100\t| Training Loss: 1.5916\t| Training Accuracy: 0.8807\t| Training Balanced Accuracy: 0.8714\n",
      "\t\t\t\t| Test Loss: 1.5985\t\t| Test Accuracy: 0.8718\t\t| Test Balanced Accuracy: 0.8614\n",
      "Epoch 00136: reducing learning rate of group 0 to 1.0000e-04.\n",
      "------------------------------------------------------------------------------------------------------------------------\n",
      "Epoch: 70/100\t| Training Loss: 1.5901\t| Training Accuracy: 0.8820\t| Training Balanced Accuracy: 0.8726\n",
      "\t\t\t\t| Test Loss: 1.5977\t\t| Test Accuracy: 0.8731\t\t| Test Balanced Accuracy: 0.8626\n",
      "Epoch 00144: reducing learning rate of group 0 to 1.0000e-05.\n",
      "------------------------------------------------------------------------------------------------------------------------\n",
      "Epoch: 75/100\t| Training Loss: 1.5898\t| Training Accuracy: 0.8821\t| Training Balanced Accuracy: 0.8728\n",
      "\t\t\t\t| Test Loss: 1.5976\t\t| Test Accuracy: 0.8728\t\t| Test Balanced Accuracy: 0.8623\n",
      "Epoch 00150: reducing learning rate of group 0 to 1.0000e-06.\n",
      "Epoch 00156: reducing learning rate of group 0 to 1.0000e-07.\n",
      "------------------------------------------------------------------------------------------------------------------------\n",
      "Epoch: 80/100\t| Training Loss: 1.5898\t| Training Accuracy: 0.8822\t| Training Balanced Accuracy: 0.8728\n",
      "\t\t\t\t| Test Loss: 1.5976\t\t| Test Accuracy: 0.8728\t\t| Test Balanced Accuracy: 0.8623\n",
      "Epoch 00162: reducing learning rate of group 0 to 1.0000e-08.\n",
      "------------------------------------------------------------------------------------------------------------------------\n",
      "Epoch: 85/100\t| Training Loss: 1.5898\t| Training Accuracy: 0.8822\t| Training Balanced Accuracy: 0.8728\n",
      "\t\t\t\t| Test Loss: 1.5976\t\t| Test Accuracy: 0.8728\t\t| Test Balanced Accuracy: 0.8623\n",
      "------------------------------------------------------------------------------------------------------------------------\n",
      "Epoch: 90/100\t| Training Loss: 1.5898\t| Training Accuracy: 0.8822\t| Training Balanced Accuracy: 0.8728\n",
      "\t\t\t\t| Test Loss: 1.5976\t\t| Test Accuracy: 0.8728\t\t| Test Balanced Accuracy: 0.8623\n",
      "------------------------------------------------------------------------------------------------------------------------\n",
      "Epoch: 95/100\t| Training Loss: 1.5898\t| Training Accuracy: 0.8822\t| Training Balanced Accuracy: 0.8728\n",
      "\t\t\t\t| Test Loss: 1.5976\t\t| Test Accuracy: 0.8728\t\t| Test Balanced Accuracy: 0.8623\n"
     ]
    },
    {
     "ename": "KeyboardInterrupt",
     "evalue": "",
     "output_type": "error",
     "traceback": [
      "\u001B[1;31m---------------------------------------------------------------------------\u001B[0m",
      "\u001B[1;31mKeyboardInterrupt\u001B[0m                         Traceback (most recent call last)",
      "Cell \u001B[1;32mIn [14], line 11\u001B[0m\n\u001B[0;32m      8\u001B[0m test_balanced_accuracies \u001B[38;5;241m=\u001B[39m []\n\u001B[0;32m     10\u001B[0m \u001B[38;5;28;01mfor\u001B[39;00m e \u001B[38;5;129;01min\u001B[39;00m \u001B[38;5;28mrange\u001B[39m(epochs):\n\u001B[1;32m---> 11\u001B[0m     train_loss, train_accuracy, train_balanced_accuracy \u001B[38;5;241m=\u001B[39m \u001B[43mrun_epoch\u001B[49m\u001B[43m(\u001B[49m\u001B[38;5;28;43;01mTrue\u001B[39;49;00m\u001B[43m)\u001B[49m \u001B[38;5;66;03m# Train model\u001B[39;00m\n\u001B[0;32m     12\u001B[0m     test_loss, test_accuracy, test_balanced_accuracy \u001B[38;5;241m=\u001B[39m run_epoch(\u001B[38;5;28;01mFalse\u001B[39;00m)   \u001B[38;5;66;03m# Test model\u001B[39;00m\n\u001B[0;32m     14\u001B[0m     \u001B[38;5;66;03m# Performance tracking\u001B[39;00m\n",
      "Cell \u001B[1;32mIn [12], line 30\u001B[0m, in \u001B[0;36mrun_epoch\u001B[1;34m(train)\u001B[0m\n\u001B[0;32m     28\u001B[0m \u001B[38;5;28;01mif\u001B[39;00m train:\n\u001B[0;32m     29\u001B[0m     optim\u001B[38;5;241m.\u001B[39mzero_grad() \u001B[38;5;66;03m# Reset gradients\u001B[39;00m\n\u001B[1;32m---> 30\u001B[0m     \u001B[43mloss\u001B[49m\u001B[38;5;241;43m.\u001B[39;49m\u001B[43mbackward\u001B[49m\u001B[43m(\u001B[49m\u001B[43m)\u001B[49m   \u001B[38;5;66;03m# Calculate new gradients\u001B[39;00m\n\u001B[0;32m     31\u001B[0m     optim\u001B[38;5;241m.\u001B[39mstep()      \u001B[38;5;66;03m# Run optimizer & update weights and biases\u001B[39;00m\n\u001B[0;32m     33\u001B[0m \u001B[38;5;66;03m# LOGGING\u001B[39;00m\n",
      "File \u001B[1;32m~\\AppData\\Local\\Programs\\Python\\Python39\\lib\\site-packages\\torch\\_tensor.py:487\u001B[0m, in \u001B[0;36mTensor.backward\u001B[1;34m(self, gradient, retain_graph, create_graph, inputs)\u001B[0m\n\u001B[0;32m    477\u001B[0m \u001B[38;5;28;01mif\u001B[39;00m has_torch_function_unary(\u001B[38;5;28mself\u001B[39m):\n\u001B[0;32m    478\u001B[0m     \u001B[38;5;28;01mreturn\u001B[39;00m handle_torch_function(\n\u001B[0;32m    479\u001B[0m         Tensor\u001B[38;5;241m.\u001B[39mbackward,\n\u001B[0;32m    480\u001B[0m         (\u001B[38;5;28mself\u001B[39m,),\n\u001B[1;32m   (...)\u001B[0m\n\u001B[0;32m    485\u001B[0m         inputs\u001B[38;5;241m=\u001B[39minputs,\n\u001B[0;32m    486\u001B[0m     )\n\u001B[1;32m--> 487\u001B[0m \u001B[43mtorch\u001B[49m\u001B[38;5;241;43m.\u001B[39;49m\u001B[43mautograd\u001B[49m\u001B[38;5;241;43m.\u001B[39;49m\u001B[43mbackward\u001B[49m\u001B[43m(\u001B[49m\n\u001B[0;32m    488\u001B[0m \u001B[43m    \u001B[49m\u001B[38;5;28;43mself\u001B[39;49m\u001B[43m,\u001B[49m\u001B[43m \u001B[49m\u001B[43mgradient\u001B[49m\u001B[43m,\u001B[49m\u001B[43m \u001B[49m\u001B[43mretain_graph\u001B[49m\u001B[43m,\u001B[49m\u001B[43m \u001B[49m\u001B[43mcreate_graph\u001B[49m\u001B[43m,\u001B[49m\u001B[43m \u001B[49m\u001B[43minputs\u001B[49m\u001B[38;5;241;43m=\u001B[39;49m\u001B[43minputs\u001B[49m\n\u001B[0;32m    489\u001B[0m \u001B[43m\u001B[49m\u001B[43m)\u001B[49m\n",
      "File \u001B[1;32m~\\AppData\\Local\\Programs\\Python\\Python39\\lib\\site-packages\\torch\\autograd\\__init__.py:197\u001B[0m, in \u001B[0;36mbackward\u001B[1;34m(tensors, grad_tensors, retain_graph, create_graph, grad_variables, inputs)\u001B[0m\n\u001B[0;32m    192\u001B[0m     retain_graph \u001B[38;5;241m=\u001B[39m create_graph\n\u001B[0;32m    194\u001B[0m \u001B[38;5;66;03m# The reason we repeat same the comment below is that\u001B[39;00m\n\u001B[0;32m    195\u001B[0m \u001B[38;5;66;03m# some Python versions print out the first line of a multi-line function\u001B[39;00m\n\u001B[0;32m    196\u001B[0m \u001B[38;5;66;03m# calls in the traceback and some print out the last line\u001B[39;00m\n\u001B[1;32m--> 197\u001B[0m \u001B[43mVariable\u001B[49m\u001B[38;5;241;43m.\u001B[39;49m\u001B[43m_execution_engine\u001B[49m\u001B[38;5;241;43m.\u001B[39;49m\u001B[43mrun_backward\u001B[49m\u001B[43m(\u001B[49m\u001B[43m  \u001B[49m\u001B[38;5;66;43;03m# Calls into the C++ engine to run the backward pass\u001B[39;49;00m\n\u001B[0;32m    198\u001B[0m \u001B[43m    \u001B[49m\u001B[43mtensors\u001B[49m\u001B[43m,\u001B[49m\u001B[43m \u001B[49m\u001B[43mgrad_tensors_\u001B[49m\u001B[43m,\u001B[49m\u001B[43m \u001B[49m\u001B[43mretain_graph\u001B[49m\u001B[43m,\u001B[49m\u001B[43m \u001B[49m\u001B[43mcreate_graph\u001B[49m\u001B[43m,\u001B[49m\u001B[43m \u001B[49m\u001B[43minputs\u001B[49m\u001B[43m,\u001B[49m\n\u001B[0;32m    199\u001B[0m \u001B[43m    \u001B[49m\u001B[43mallow_unreachable\u001B[49m\u001B[38;5;241;43m=\u001B[39;49m\u001B[38;5;28;43;01mTrue\u001B[39;49;00m\u001B[43m,\u001B[49m\u001B[43m \u001B[49m\u001B[43maccumulate_grad\u001B[49m\u001B[38;5;241;43m=\u001B[39;49m\u001B[38;5;28;43;01mTrue\u001B[39;49;00m\u001B[43m)\u001B[49m\n",
      "\u001B[1;31mKeyboardInterrupt\u001B[0m: "
     ]
    }
   ],
   "source": [
    "train_losses = []\n",
    "test_losses = []\n",
    "\n",
    "train_accuracies = []\n",
    "test_accuracies = []\n",
    "\n",
    "train_balanced_accuracies = []\n",
    "test_balanced_accuracies = []\n",
    "\n",
    "for e in range(epochs):\n",
    "    train_loss, train_accuracy, train_balanced_accuracy = run_epoch(True) # Train model\n",
    "    test_loss, test_accuracy, test_balanced_accuracy = run_epoch(False)   # Test model\n",
    "    \n",
    "    # Performance tracking\n",
    "    train_losses.append(train_loss)\n",
    "    test_losses.append(test_loss)\n",
    "    train_accuracies.append(train_accuracy)\n",
    "    test_accuracies.append(test_accuracy)\n",
    "    train_balanced_accuracies.append(train_balanced_accuracy)\n",
    "    test_balanced_accuracies.append(test_balanced_accuracy)\n",
    "    \n",
    "    if (e+1) % print_frequency == 0:\n",
    "        print('------------------------------------------------------------------------------------------------------------------------')\n",
    "        print(f'Epoch: {e + 1}/{epochs}\\t| Training Loss: {train_loss:.4f}\\t| Training Accuracy: {train_accuracy:.4f}\\t| Training Balanced Accuracy: {train_balanced_accuracy:.4f}')\n",
    "        print(f'\\t\\t\\t\\t| Test Loss: {test_loss:.4f}\\t\\t| Test Accuracy: {test_accuracy:.4f}\\t\\t| Test Balanced Accuracy: {test_balanced_accuracy:.4f}')\n",
    "                \n",
    "    scheduler.step(test_loss)\n",
    "\n",
    "print('------------------------------------------------------------------------------------------------------------------------')"
   ]
  },
  {
   "cell_type": "markdown",
   "id": "c695f488-56b1-420c-b6e1-6f813146413f",
   "metadata": {},
   "source": [
    "# Performance plots"
   ]
  },
  {
   "cell_type": "code",
   "execution_count": 15,
   "id": "9a19e449-0871-441d-979b-d231623b5321",
   "metadata": {
    "pycharm": {
     "name": "#%%\n"
    }
   },
   "outputs": [
    {
     "data": {
      "text/plain": "<Figure size 1500x1000 with 3 Axes>",
      "image/png": "[encoded data removed]"
     },
     "metadata": {},
     "output_type": "display_data"
    }
   ],
   "source": [
    "fig, axs = plt.subplots(2,2,figsize=(15,10))\n",
    "\n",
    "# Loss\n",
    "axs[0,0].plot(train_losses, label='Training')\n",
    "axs[0,0].plot(test_losses, label='Test')\n",
    "axs[0,0].legend()\n",
    "axs[0,0].set_title(f'Model Loss ({criterion.__class__.__name__})')\n",
    "axs[0,0].set_xlabel('Epoch')\n",
    "axs[0,0].set_ylabel('Loss')\n",
    "\n",
    "# Accuracy\n",
    "axs[0,1].plot(train_accuracies, label='Training')\n",
    "axs[0,1].plot(test_accuracies, label='Test')\n",
    "axs[0,1].legend()\n",
    "axs[0,1].set_title('Accuracy')\n",
    "axs[0,1].set_xlabel('Epoch')\n",
    "axs[0,1].set_ylabel('Loss')\n",
    "\n",
    "# Balanced Accuracy\n",
    "axs[1,1].plot(train_balanced_accuracies, label='Training')\n",
    "axs[1,1].plot(test_balanced_accuracies, label='Test')\n",
    "axs[1,1].legend()\n",
    "axs[1,1].set_title('Balanced Accuracy')\n",
    "axs[1,1].set_xlabel('Epoch')\n",
    "axs[1,1].set_ylabel('Balanced Accuracy')\n",
    "\n",
    "fig.delaxes(axs[1,0])\n",
    "\n",
    "plt.show()"
   ]
  }
 ],
 "metadata": {
  "kernelspec": {
   "display_name": "Python 3",
   "language": "python",
   "name": "python3"
  },
  "language_info": {
   "codemirror_mode": {
    "name": "ipython",
    "version": 3
   },
   "file_extension": ".py",
   "mimetype": "text/x-python",
   "name": "python",
   "nbconvert_exporter": "python",
   "pygments_lexer": "ipython3",
   "version": "3.6.3"
  }
 },
 "nbformat": 4,
 "nbformat_minor": 5
}