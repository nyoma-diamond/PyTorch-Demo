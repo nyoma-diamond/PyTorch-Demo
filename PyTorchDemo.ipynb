{
 "cells": [
  {
   "cell_type": "markdown",
   "id": "13c958ee-9f59-4065-a1a6-cd1a991b2c8c",
   "metadata": {},
   "source": [
    "# UPE Lunch & Learn PyTorch Demo"
   ]
  },
  {
   "cell_type": "markdown",
   "id": "abcdd4a3-12aa-4597-b1c0-8c5c5eab3b72",
   "metadata": {},
   "source": [
    "# Imports & Setup"
   ]
  },
  {
   "cell_type": "code",
   "execution_count": 1,
   "id": "e3c637de-5c5a-4f3d-9106-f6ecea8c8254",
   "metadata": {},
   "outputs": [],
   "source": [
    "import numpy as np\n",
    "import matplotlib.pyplot as plt\n",
    "\n",
    "import torch\n",
    "from torch import nn\n",
    "from torch.utils.data import DataLoader\n",
    "\n",
    "import torchvision\n",
    "from torchvision.datasets import MNIST\n",
    "from torchvision import transforms\n",
    "\n",
    "from sklearn.metrics import balanced_accuracy_score as balanced_accuracy\n",
    "from sklearn.metrics import accuracy_score as accuracy\n",
    "from sklearn.metrics import classification_report"
   ]
  },
  {
   "cell_type": "markdown",
   "id": "f1491fb6-3929-4f9a-a021-6a92f7badfc5",
   "metadata": {},
   "source": [
    "### Check Cuda Availability"
   ]
  },
  {
   "cell_type": "code",
   "execution_count": 2,
   "id": "0ee15525-1739-46f5-b7a9-f87444759d7d",
   "metadata": {},
   "outputs": [
    {
     "name": "stdout",
     "output_type": "stream",
     "text": [
      "CUDA Available: True\n",
      "Tesla T4\n"
     ]
    }
   ],
   "source": [
    "cuda_available = torch.cuda.is_available()\n",
    "print(f'CUDA Available: {cuda_available}')\n",
    "if cuda_available:\n",
    "    print(torch.cuda.get_device_name(0))"
   ]
  },
  {
   "cell_type": "markdown",
   "id": "047d4ddf-85e1-4aa1-8560-ca252fe70c8e",
   "metadata": {},
   "source": [
    "# Data Loading & Preprocessing"
   ]
  },
  {
   "cell_type": "markdown",
   "id": "0b8bf58c-4ce6-4bc1-8970-fbff9ceab144",
   "metadata": {},
   "source": [
    "### Dataset Transforms"
   ]
  },
  {
   "cell_type": "code",
   "execution_count": 3,
   "id": "5b50d73d-f9cc-4071-ae9b-3b3fa3dece6b",
   "metadata": {},
   "outputs": [],
   "source": [
    "transform = transforms.Compose([\n",
    "    transforms.ToTensor(),                                 # Transform images to tensors\n",
    "    lambda image: image.view(image.size(1), image.size(2)) # Remove color channel dimension, since we only have black and white\n",
    "])"
   ]
  },
  {
   "cell_type": "markdown",
   "id": "d54333f5-f326-4442-b95a-18a15c83b995",
   "metadata": {},
   "source": [
    "### Getting the data, transforming, and loading it"
   ]
  },
  {
   "cell_type": "code",
   "execution_count": 4,
   "id": "1fcf9f38-be09-4734-a03a-2fe3a441fae4",
   "metadata": {
    "tags": []
   },
   "outputs": [],
   "source": [
    "mnist_train = MNIST(root=\"./\", train=True, download=True, transform=transform)\n",
    "mnist_test = MNIST(root=\"./\", train=False, download=True, transform=transform)\n",
    "\n",
    "train_loader = DataLoader(mnist_train, batch_size=10000, shuffle=True)\n",
    "test_loader = DataLoader(mnist_test, batch_size=10000, shuffle=True)"
   ]
  },
  {
   "cell_type": "markdown",
   "id": "26f41381-6395-4769-8874-bcf60087ea95",
   "metadata": {},
   "source": [
    "### Example input"
   ]
  },
  {
   "cell_type": "code",
   "execution_count": 5,
   "id": "8e1ab27a-cd64-4d5b-9388-e02bed847b47",
   "metadata": {
    "tags": []
   },
   "outputs": [
    {
     "name": "stdout",
     "output_type": "stream",
     "text": [
      "<class 'torch.Tensor'>\n",
      "torch.Size([28, 28])\n",
      "tensor([[0.0000, 0.0000, 0.0000, 0.0000, 0.0000, 0.0000, 0.0000, 0.0000, 0.0000,\n",
      "         0.0000, 0.0000, 0.0000, 0.0000, 0.0000, 0.0000, 0.0000, 0.0000, 0.0000,\n",
      "         0.0000, 0.0000, 0.0000, 0.0000, 0.0000, 0.0000, 0.0000, 0.0000, 0.0000,\n",
      "         0.0000],\n",
      "        [0.0000, 0.0000, 0.0000, 0.0000, 0.0000, 0.0000, 0.0000, 0.0000, 0.0000,\n",
      "         0.0000, 0.0000, 0.0000, 0.0000, 0.0000, 0.0000, 0.0000, 0.0000, 0.0000,\n",
      "         0.0000, 0.0000, 0.0000, 0.0000, 0.0000, 0.0000, 0.0000, 0.0000, 0.0000,\n",
      "         0.0000],\n",
      "        [0.0000, 0.0000, 0.0000, 0.0000, 0.0000, 0.0000, 0.0000, 0.0000, 0.0000,\n",
      "         0.0000, 0.0000, 0.0000, 0.0000, 0.0000, 0.0000, 0.0000, 0.0000, 0.0000,\n",
      "         0.0000, 0.0000, 0.0000, 0.0000, 0.0000, 0.0000, 0.0000, 0.0000, 0.0000,\n",
      "         0.0000],\n",
      "        [0.0000, 0.0000, 0.0000, 0.0000, 0.0000, 0.0000, 0.0000, 0.0000, 0.0000,\n",
      "         0.0000, 0.0000, 0.0000, 0.0000, 0.0000, 0.0000, 0.0000, 0.0000, 0.0000,\n",
      "         0.0000, 0.0000, 0.0000, 0.0000, 0.0000, 0.0000, 0.0000, 0.0000, 0.0000,\n",
      "         0.0000],\n",
      "        [0.0000, 0.0000, 0.0000, 0.0000, 0.0000, 0.0000, 0.0000, 0.0000, 0.0000,\n",
      "         0.0000, 0.0000, 0.0000, 0.0000, 0.0000, 0.0000, 0.0000, 0.0000, 0.0000,\n",
      "         0.0000, 0.0000, 0.0000, 0.0000, 0.0000, 0.0000, 0.0000, 0.0000, 0.0000,\n",
      "         0.0000],\n",
      "        [0.0000, 0.0000, 0.0000, 0.0000, 0.0000, 0.0000, 0.0000, 0.0000, 0.0000,\n",
      "         0.0000, 0.0000, 0.0000, 0.0000, 0.0000, 0.0000, 0.0000, 0.0000, 0.0000,\n",
      "         0.0000, 0.0000, 0.0000, 0.0000, 0.0000, 0.0000, 0.0000, 0.0000, 0.0000,\n",
      "         0.0000],\n",
      "        [0.0000, 0.0000, 0.0000, 0.0000, 0.0000, 0.0000, 0.0000, 0.0000, 0.0000,\n",
      "         0.0000, 0.0000, 0.0000, 0.0000, 0.2824, 0.6706, 0.8784, 0.7059, 0.0863,\n",
      "         0.0000, 0.0000, 0.0000, 0.0000, 0.0000, 0.0000, 0.0000, 0.0000, 0.0000,\n",
      "         0.0000],\n",
      "        [0.0000, 0.0000, 0.0000, 0.0000, 0.0000, 0.0000, 0.0000, 0.0000, 0.0000,\n",
      "         0.0000, 0.0000, 0.0000, 0.4431, 0.9961, 0.9961, 0.9961, 0.9961, 0.9569,\n",
      "         0.2863, 0.0000, 0.0000, 0.0000, 0.0000, 0.0000, 0.0000, 0.0000, 0.0000,\n",
      "         0.0000],\n",
      "        [0.0000, 0.0000, 0.0000, 0.0000, 0.0000, 0.0000, 0.0000, 0.0000, 0.0000,\n",
      "         0.0000, 0.0000, 0.3686, 0.9961, 0.9961, 0.9961, 0.8627, 0.9961, 0.9961,\n",
      "         0.8549, 0.0196, 0.0000, 0.0000, 0.0000, 0.0000, 0.0000, 0.0000, 0.0000,\n",
      "         0.0000],\n",
      "        [0.0000, 0.0000, 0.0000, 0.0000, 0.0000, 0.0000, 0.0000, 0.0000, 0.0000,\n",
      "         0.0000, 0.0196, 0.8392, 0.9961, 0.9961, 0.6275, 0.0471, 0.6353, 0.9961,\n",
      "         0.9961, 0.2941, 0.0157, 0.0000, 0.0000, 0.0000, 0.0000, 0.0000, 0.0000,\n",
      "         0.0000],\n",
      "        [0.0000, 0.0000, 0.0000, 0.0000, 0.0000, 0.0000, 0.0000, 0.0000, 0.0000,\n",
      "         0.0000, 0.3020, 0.8863, 0.9961, 0.7843, 0.0275, 0.0000, 0.1765, 0.9961,\n",
      "         0.9961, 0.9961, 0.0863, 0.0000, 0.0000, 0.0000, 0.0000, 0.0000, 0.0000,\n",
      "         0.0000],\n",
      "        [0.0000, 0.0000, 0.0000, 0.0000, 0.0000, 0.0000, 0.0000, 0.0000, 0.0000,\n",
      "         0.0039, 0.6549, 0.9961, 0.8902, 0.1333, 0.0000, 0.1059, 0.8471, 0.9961,\n",
      "         0.9961, 0.8941, 0.0549, 0.0000, 0.0000, 0.0000, 0.0000, 0.0000, 0.0000,\n",
      "         0.0000],\n",
      "        [0.0000, 0.0000, 0.0000, 0.0000, 0.0000, 0.0000, 0.0000, 0.0000, 0.0000,\n",
      "         0.3333, 0.9961, 0.9961, 0.6000, 0.0000, 0.3569, 0.8353, 0.9961, 0.9961,\n",
      "         0.9961, 0.4980, 0.0000, 0.0000, 0.0000, 0.0000, 0.0000, 0.0000, 0.0000,\n",
      "         0.0000],\n",
      "        [0.0000, 0.0000, 0.0000, 0.0000, 0.0000, 0.0000, 0.0000, 0.0000, 0.0000,\n",
      "         0.4431, 0.9961, 0.9961, 0.7647, 0.9608, 0.9961, 0.9961, 0.9961, 0.9961,\n",
      "         0.9961, 0.0392, 0.0000, 0.0000, 0.0000, 0.0000, 0.0000, 0.0000, 0.0000,\n",
      "         0.0000],\n",
      "        [0.0000, 0.0000, 0.0000, 0.0000, 0.0000, 0.0000, 0.0000, 0.0000, 0.0000,\n",
      "         0.4431, 0.9961, 0.9961, 0.9961, 0.9961, 0.9961, 0.9961, 0.9961, 0.9961,\n",
      "         0.6235, 0.0039, 0.0000, 0.0000, 0.0000, 0.0000, 0.0000, 0.0000, 0.0000,\n",
      "         0.0000],\n",
      "        [0.0000, 0.0000, 0.0000, 0.0000, 0.0000, 0.0000, 0.0000, 0.0000, 0.0000,\n",
      "         0.2078, 0.8000, 0.9961, 0.9961, 0.8353, 0.6039, 0.9961, 0.9961, 0.9882,\n",
      "         0.1569, 0.0000, 0.0000, 0.0000, 0.0000, 0.0000, 0.0000, 0.0000, 0.0000,\n",
      "         0.0000],\n",
      "        [0.0000, 0.0000, 0.0000, 0.0000, 0.0000, 0.0000, 0.0000, 0.0000, 0.0000,\n",
      "         0.0000, 0.0706, 0.1725, 0.1725, 0.0118, 0.3451, 0.9961, 0.9961, 0.9804,\n",
      "         0.0000, 0.0000, 0.0000, 0.0000, 0.0000, 0.0000, 0.0000, 0.0000, 0.0000,\n",
      "         0.0000],\n",
      "        [0.0000, 0.0000, 0.0000, 0.0000, 0.0000, 0.0000, 0.0000, 0.0000, 0.0000,\n",
      "         0.0000, 0.0000, 0.0000, 0.0000, 0.0000, 0.5529, 0.9961, 0.9961, 0.8314,\n",
      "         0.0000, 0.0000, 0.0000, 0.0000, 0.0000, 0.0000, 0.0000, 0.0000, 0.0000,\n",
      "         0.0000],\n",
      "        [0.0000, 0.0000, 0.0000, 0.0000, 0.0000, 0.0000, 0.0000, 0.0000, 0.0000,\n",
      "         0.0000, 0.0000, 0.0000, 0.0000, 0.1686, 0.9647, 0.9961, 0.9961, 0.3725,\n",
      "         0.0000, 0.0000, 0.0000, 0.0000, 0.0000, 0.0000, 0.0000, 0.0000, 0.0000,\n",
      "         0.0000],\n",
      "        [0.0000, 0.0000, 0.0000, 0.0000, 0.0000, 0.0000, 0.0000, 0.0000, 0.0000,\n",
      "         0.0000, 0.0000, 0.0000, 0.0000, 0.2314, 0.9961, 0.9961, 0.9294, 0.0000,\n",
      "         0.0000, 0.0000, 0.0000, 0.0000, 0.0000, 0.0000, 0.0000, 0.0000, 0.0000,\n",
      "         0.0000],\n",
      "        [0.0000, 0.0000, 0.0000, 0.0000, 0.0000, 0.0000, 0.0000, 0.0000, 0.0000,\n",
      "         0.0000, 0.0000, 0.0000, 0.0000, 0.5686, 0.9961, 0.9961, 0.7098, 0.0000,\n",
      "         0.0000, 0.0000, 0.0000, 0.0000, 0.0000, 0.0000, 0.0000, 0.0000, 0.0000,\n",
      "         0.0000],\n",
      "        [0.0000, 0.0000, 0.0000, 0.0000, 0.0000, 0.0000, 0.0000, 0.0000, 0.0000,\n",
      "         0.0000, 0.0000, 0.0000, 0.0627, 0.9137, 0.9961, 0.9725, 0.2078, 0.0000,\n",
      "         0.0000, 0.0000, 0.0000, 0.0000, 0.0000, 0.0000, 0.0000, 0.0000, 0.0000,\n",
      "         0.0000],\n",
      "        [0.0000, 0.0000, 0.0000, 0.0000, 0.0000, 0.0000, 0.0000, 0.0000, 0.0000,\n",
      "         0.0000, 0.0000, 0.0000, 0.3412, 0.9961, 0.9961, 0.8745, 0.0000, 0.0000,\n",
      "         0.0000, 0.0000, 0.0000, 0.0000, 0.0000, 0.0000, 0.0000, 0.0000, 0.0000,\n",
      "         0.0000],\n",
      "        [0.0000, 0.0000, 0.0000, 0.0000, 0.0000, 0.0000, 0.0000, 0.0000, 0.0000,\n",
      "         0.0000, 0.0000, 0.0000, 0.6314, 0.9961, 0.9961, 0.5882, 0.0000, 0.0000,\n",
      "         0.0000, 0.0000, 0.0000, 0.0000, 0.0000, 0.0000, 0.0000, 0.0000, 0.0000,\n",
      "         0.0000],\n",
      "        [0.0000, 0.0000, 0.0000, 0.0000, 0.0000, 0.0000, 0.0000, 0.0000, 0.0000,\n",
      "         0.0000, 0.0000, 0.0000, 0.6314, 0.9961, 0.9882, 0.2510, 0.0000, 0.0000,\n",
      "         0.0000, 0.0000, 0.0000, 0.0000, 0.0000, 0.0000, 0.0000, 0.0000, 0.0000,\n",
      "         0.0000],\n",
      "        [0.0000, 0.0000, 0.0000, 0.0000, 0.0000, 0.0000, 0.0000, 0.0000, 0.0000,\n",
      "         0.0000, 0.0000, 0.0000, 0.5098, 0.9961, 0.5725, 0.0000, 0.0000, 0.0000,\n",
      "         0.0000, 0.0000, 0.0000, 0.0000, 0.0000, 0.0000, 0.0000, 0.0000, 0.0000,\n",
      "         0.0000],\n",
      "        [0.0000, 0.0000, 0.0000, 0.0000, 0.0000, 0.0000, 0.0000, 0.0000, 0.0000,\n",
      "         0.0000, 0.0000, 0.0000, 0.0000, 0.0000, 0.0000, 0.0000, 0.0000, 0.0000,\n",
      "         0.0000, 0.0000, 0.0000, 0.0000, 0.0000, 0.0000, 0.0000, 0.0000, 0.0000,\n",
      "         0.0000],\n",
      "        [0.0000, 0.0000, 0.0000, 0.0000, 0.0000, 0.0000, 0.0000, 0.0000, 0.0000,\n",
      "         0.0000, 0.0000, 0.0000, 0.0000, 0.0000, 0.0000, 0.0000, 0.0000, 0.0000,\n",
      "         0.0000, 0.0000, 0.0000, 0.0000, 0.0000, 0.0000, 0.0000, 0.0000, 0.0000,\n",
      "         0.0000]])\n"
     ]
    }
   ],
   "source": [
    "for images, labels in test_loader:\n",
    "    sample_image = images[0]\n",
    "    sample_label = labels[0]\n",
    "    break\n",
    "\n",
    "print(type(sample_image))\n",
    "print(sample_image.shape)\n",
    "print(sample_image)"
   ]
  },
  {
   "cell_type": "markdown",
   "id": "40abf7f8-6de0-428c-af7f-f55f7ddbc341",
   "metadata": {},
   "source": [
    "### Example visual"
   ]
  },
  {
   "cell_type": "code",
   "execution_count": 6,
   "id": "0bfa4502-5eeb-4e0d-a11d-4eecf80fcbc6",
   "metadata": {},
   "outputs": [
    {
     "name": "stdout",
     "output_type": "stream",
     "text": [
      "tensor(9)\n"
     ]
    },
    {
     "data": {
      "image/png": "[encoded data removed]",
      "text/plain": [
       "<Figure size 432x288 with 1 Axes>"
      ]
     },
     "metadata": {
      "needs_background": "light"
     },
     "output_type": "display_data"
    }
   ],
   "source": [
    "plt.imshow(sample_image, cmap=\"gray\")\n",
    "\n",
    "print(sample_label) # Label tensor\n",
    "plt.show()"
   ]
  },
  {
   "cell_type": "markdown",
   "id": "28350c24-782e-414e-9445-16c7d6c6cb9f",
   "metadata": {},
   "source": [
    "### Reshaping example"
   ]
  },
  {
   "cell_type": "code",
   "execution_count": 7,
   "id": "18e90f61-e7a5-49dc-a647-fb9f5c396eac",
   "metadata": {},
   "outputs": [
    {
     "name": "stdout",
     "output_type": "stream",
     "text": [
      "torch.Size([28, 28])\n",
      "torch.Size([784])\n",
      "torch.Size([784])\n",
      "torch.Size([784])\n"
     ]
    }
   ],
   "source": [
    "print(sample_image.shape)                                                    # Original shape\n",
    "print(sample_image.view(sample_image.size(0)*sample_image.size(1)).shape)    # View to change shape\n",
    "print(sample_image.reshape(sample_image.size(0)*sample_image.size(1)).shape) # Reshape to change shape\n",
    "print(sample_image.flatten().shape)                                          # Flatten to change shape"
   ]
  },
  {
   "cell_type": "markdown",
   "id": "acb9ae17-403b-4dd4-af5e-1fe9bf77b499",
   "metadata": {},
   "source": [
    "# Neural Network Model"
   ]
  },
  {
   "cell_type": "code",
   "execution_count": 8,
   "id": "45fa0b4e-c32c-4b7d-b2e3-8ed910d1f8a1",
   "metadata": {},
   "outputs": [],
   "source": [
    "class Model(nn.Module):\n",
    "    # Model initialization\n",
    "    def __init__(self):\n",
    "        super(Model, self).__init__()\n",
    "        \n",
    "        self.hidden1 = nn.Linear(28*28, 100); # Hidden layers\n",
    "        self.hidden2 = nn.Linear(100, 100); \n",
    "        self.hidden3 = nn.Linear(100, 100); \n",
    "        \n",
    "        self.out = nn.Linear(100, 10); # Output layer\n",
    "        \n",
    "        self.relu = nn.ReLU();           # Hidden layer activation function\n",
    "        self.softmax = nn.Softmax(dim=1) # Output layer activation function; All values in [0,1] and must sum to 1\n",
    "        \n",
    "    # Model operation\n",
    "    def forward(self, x):\n",
    "        h1 = self.relu(self.hidden1(x))\n",
    "        h2 = self.relu(self.hidden2(h1))\n",
    "        h3 = self.relu(self.hidden3(h2))\n",
    "        return self.softmax(self.out(h3))"
   ]
  },
  {
   "cell_type": "markdown",
   "id": "c4981463-e2e9-4f20-b396-cdb1c237ce4d",
   "metadata": {},
   "source": [
    "### Model Initialization"
   ]
  },
  {
   "cell_type": "code",
   "execution_count": 9,
   "id": "b1555865-490d-46ac-894e-1de0790a7e64",
   "metadata": {},
   "outputs": [
    {
     "data": {
      "text/plain": [
       "Model(\n",
       "  (hidden1): Linear(in_features=784, out_features=100, bias=True)\n",
       "  (hidden2): Linear(in_features=100, out_features=100, bias=True)\n",
       "  (hidden3): Linear(in_features=100, out_features=100, bias=True)\n",
       "  (out): Linear(in_features=100, out_features=10, bias=True)\n",
       "  (relu): ReLU()\n",
       "  (softmax): Softmax()\n",
       ")"
      ]
     },
     "metadata": {},
     "output_type": "display_data"
    }
   ],
   "source": [
    "model = Model()\n",
    "if cuda_available:\n",
    "    model.cuda()\n",
    "\n",
    "display(model)"
   ]
  },
  {
   "cell_type": "markdown",
   "id": "a6df0c86-ec31-4ba9-b6da-48634eddaded",
   "metadata": {},
   "source": [
    "### Training Initialization"
   ]
  },
  {
   "cell_type": "code",
   "execution_count": 10,
   "id": "6793471c-24d2-4042-9f39-ee643750556f",
   "metadata": {},
   "outputs": [
    {
     "name": "stdout",
     "output_type": "stream",
     "text": [
      "[5923 6742 5958 6131 5842 5421 5918 6265 5851 5949]\n",
      "tensor([1.1383, 1.0000, 1.1316, 1.0997, 1.1541, 1.2437, 1.1392, 1.0761, 1.1523,\n",
      "        1.1333], device='cuda:0')\n"
     ]
    }
   ],
   "source": [
    "counts = np.unique(mnist_train.targets, return_counts=True)[1] # Get number of occurrences of each label\n",
    "weights = torch.from_numpy(np.max(counts)/counts).float() # get relative weights for each label\n",
    "if cuda_available:\n",
    "    weights = weights.cuda()\n",
    "    \n",
    "print(counts)\n",
    "print(weights)"
   ]
  },
  {
   "cell_type": "code",
   "execution_count": 11,
   "id": "5d853bcf-b176-44ba-87f6-e1c9945b5c3a",
   "metadata": {},
   "outputs": [],
   "source": [
    "criterion = nn.CrossEntropyLoss(weight=weights) # Loss function\n",
    "optim = torch.optim.Adam(model.parameters(), lr=1e-3) # Optimizer function\n",
    "scheduler = torch.optim.lr_scheduler.ReduceLROnPlateau(optim, factor=0.1, patience=5, verbose=True) # Scheduler function"
   ]
  },
  {
   "cell_type": "markdown",
   "id": "c5387e9d-5c9f-4c0c-bb0e-1d89922e07b6",
   "metadata": {},
   "source": [
    "# Model Training"
   ]
  },
  {
   "cell_type": "markdown",
   "id": "40f51dad-612b-4c28-b173-3d061e1fbadb",
   "metadata": {},
   "source": [
    "### Defining training functions"
   ]
  },
  {
   "cell_type": "code",
   "execution_count": 12,
   "id": "84016821-0ebb-49dd-8689-0dd2fb9a011c",
   "metadata": {},
   "outputs": [],
   "source": [
    "# Train one epoch\n",
    "def train():\n",
    "    model.train() # Put model in training mode\n",
    "    \n",
    "    # Logging (note: this isn't particularly efficient, but it's nice to see)\n",
    "    truths = []\n",
    "    preds = []\n",
    "    total_loss = 0.\n",
    "    \n",
    "    for x, y in train_loader:\n",
    "        if cuda_available: # Move tensors over to cuda if present\n",
    "            x = x.cuda()\n",
    "            y = y.cuda()\n",
    "        \n",
    "        x = x.flatten(start_dim=1, end_dim=2) # Image in the loader is 28x28, but ur model expects a flattened image\n",
    "        \n",
    "        optim.zero_grad() # Reset gradients\n",
    "        \n",
    "        predictions = model(x) # Put data through model, get predictions\n",
    "        \n",
    "        loss = criterion(predictions, y) # Calculate loss (how wrong our predictions are)\n",
    "        \n",
    "        truths.extend(y.tolist()) # Add this batch's truths to the full list\n",
    "        preds.extend(predictions.argmax(dim=1).tolist()) # Add this batch's predictions to the full list\n",
    "        total_loss += loss.item() * predictions.size(0) # Add this batch's loss to the total loss (multiplied by this batch's size to account for size mismatches)\n",
    "        \n",
    "        loss.backward() # Calculate gradients\n",
    "        optim.step() # Run optimizer & update weights and biases\n",
    "         \n",
    "    return total_loss/len(train_loader.dataset), accuracy(truths, preds), balanced_accuracy(truths, preds)\n",
    "\n",
    "\n",
    "# Get validation (test) metrics\n",
    "def test():\n",
    "    model.eval() # Put model in evaluation mode\n",
    "    \n",
    "    truths = []\n",
    "    preds = []\n",
    "    total_loss = 0.\n",
    "    \n",
    "    for x, y in test_loader:\n",
    "        if cuda_available:\n",
    "            x = x.cuda()\n",
    "            y = y.cuda()\n",
    "        \n",
    "        x = x.flatten(start_dim=1, end_dim=2)\n",
    "        \n",
    "        predictions = model(x) \n",
    "        \n",
    "        loss = criterion(predictions, y)\n",
    "        \n",
    "        truths.extend(y.tolist()) \n",
    "        preds.extend(predictions.argmax(dim=1).tolist()) \n",
    "        total_loss += loss.item() * predictions.size(0) \n",
    "         \n",
    "    return total_loss/len(test_loader.dataset), accuracy(truths, preds), balanced_accuracy(truths, preds)"
   ]
  },
  {
   "cell_type": "markdown",
   "id": "4c09690c-f632-42f1-ac9f-a791b702a5c9",
   "metadata": {},
   "source": [
    "### Training"
   ]
  },
  {
   "cell_type": "code",
   "execution_count": 13,
   "id": "86214250-9045-41ae-830f-576061a98411",
   "metadata": {},
   "outputs": [],
   "source": [
    "epochs = 100\n",
    "print_frequency = 5"
   ]
  },
  {
   "cell_type": "code",
   "execution_count": 14,
   "id": "37cfec74-d99f-412b-8d7c-0e132154ce8d",
   "metadata": {},
   "outputs": [
    {
     "name": "stdout",
     "output_type": "stream",
     "text": [
      "------------------------------------------------------------------------------------------------------------------------\n",
      "Epoch: 5/100\t| Training Loss: 1.9959\t| Training Accuracy: 0.6379\t| Training Balanced Accuracy: 0.6286\n",
      "\t\t| Test Loss: 1.9067\t| Test Accuracy: 0.6775\t\t| Test Balanced Accuracy: 0.6684\n",
      "------------------------------------------------------------------------------------------------------------------------\n",
      "Epoch: 10/100\t| Training Loss: 1.6186\t| Training Accuracy: 0.8705\t| Training Balanced Accuracy: 0.8685\n",
      "\t\t| Test Loss: 1.6021\t| Test Accuracy: 0.8820\t\t| Test Balanced Accuracy: 0.8798\n",
      "------------------------------------------------------------------------------------------------------------------------\n",
      "Epoch: 15/100\t| Training Loss: 1.5666\t| Training Accuracy: 0.9066\t| Training Balanced Accuracy: 0.9054\n",
      "\t\t| Test Loss: 1.5619\t| Test Accuracy: 0.9089\t\t| Test Balanced Accuracy: 0.9076\n",
      "------------------------------------------------------------------------------------------------------------------------\n",
      "Epoch: 20/100\t| Training Loss: 1.5497\t| Training Accuracy: 0.9208\t| Training Balanced Accuracy: 0.9197\n",
      "\t\t| Test Loss: 1.5481\t| Test Accuracy: 0.9209\t\t| Test Balanced Accuracy: 0.9199\n",
      "------------------------------------------------------------------------------------------------------------------------\n",
      "Epoch: 25/100\t| Training Loss: 1.5393\t| Training Accuracy: 0.9300\t| Training Balanced Accuracy: 0.9290\n",
      "\t\t| Test Loss: 1.5408\t| Test Accuracy: 0.9258\t\t| Test Balanced Accuracy: 0.9248\n",
      "------------------------------------------------------------------------------------------------------------------------\n",
      "Epoch: 30/100\t| Training Loss: 1.5316\t| Training Accuracy: 0.9366\t| Training Balanced Accuracy: 0.9358\n",
      "\t\t| Test Loss: 1.5334\t| Test Accuracy: 0.9326\t\t| Test Balanced Accuracy: 0.9316\n",
      "------------------------------------------------------------------------------------------------------------------------\n",
      "Epoch: 35/100\t| Training Loss: 1.5257\t| Training Accuracy: 0.9415\t| Training Balanced Accuracy: 0.9409\n",
      "\t\t| Test Loss: 1.5290\t| Test Accuracy: 0.9372\t\t| Test Balanced Accuracy: 0.9362\n",
      "------------------------------------------------------------------------------------------------------------------------\n",
      "Epoch: 40/100\t| Training Loss: 1.5199\t| Training Accuracy: 0.9466\t| Training Balanced Accuracy: 0.9460\n",
      "\t\t| Test Loss: 1.5253\t| Test Accuracy: 0.9394\t\t| Test Balanced Accuracy: 0.9386\n",
      "------------------------------------------------------------------------------------------------------------------------\n",
      "Epoch: 45/100\t| Training Loss: 1.5156\t| Training Accuracy: 0.9509\t| Training Balanced Accuracy: 0.9504\n",
      "\t\t| Test Loss: 1.5216\t| Test Accuracy: 0.9435\t\t| Test Balanced Accuracy: 0.9426\n",
      "------------------------------------------------------------------------------------------------------------------------\n",
      "Epoch: 50/100\t| Training Loss: 1.5118\t| Training Accuracy: 0.9545\t| Training Balanced Accuracy: 0.9540\n",
      "\t\t| Test Loss: 1.5183\t| Test Accuracy: 0.9457\t\t| Test Balanced Accuracy: 0.9450\n",
      "------------------------------------------------------------------------------------------------------------------------\n",
      "Epoch: 55/100\t| Training Loss: 1.5083\t| Training Accuracy: 0.9575\t| Training Balanced Accuracy: 0.9570\n",
      "\t\t| Test Loss: 1.5156\t| Test Accuracy: 0.9479\t\t| Test Balanced Accuracy: 0.9473\n",
      "------------------------------------------------------------------------------------------------------------------------\n",
      "Epoch: 60/100\t| Training Loss: 1.5056\t| Training Accuracy: 0.9599\t| Training Balanced Accuracy: 0.9595\n",
      "\t\t| Test Loss: 1.5143\t| Test Accuracy: 0.9498\t\t| Test Balanced Accuracy: 0.9490\n",
      "------------------------------------------------------------------------------------------------------------------------\n",
      "Epoch: 65/100\t| Training Loss: 1.5030\t| Training Accuracy: 0.9622\t| Training Balanced Accuracy: 0.9618\n",
      "\t\t| Test Loss: 1.5122\t| Test Accuracy: 0.9512\t\t| Test Balanced Accuracy: 0.9506\n",
      "------------------------------------------------------------------------------------------------------------------------\n",
      "Epoch: 70/100\t| Training Loss: 1.5006\t| Training Accuracy: 0.9639\t| Training Balanced Accuracy: 0.9635\n",
      "\t\t| Test Loss: 1.5104\t| Test Accuracy: 0.9531\t\t| Test Balanced Accuracy: 0.9527\n",
      "------------------------------------------------------------------------------------------------------------------------\n",
      "Epoch: 75/100\t| Training Loss: 1.4985\t| Training Accuracy: 0.9662\t| Training Balanced Accuracy: 0.9659\n",
      "\t\t| Test Loss: 1.5095\t| Test Accuracy: 0.9538\t\t| Test Balanced Accuracy: 0.9534\n",
      "------------------------------------------------------------------------------------------------------------------------\n",
      "Epoch: 80/100\t| Training Loss: 1.4963\t| Training Accuracy: 0.9681\t| Training Balanced Accuracy: 0.9679\n",
      "\t\t| Test Loss: 1.5073\t| Test Accuracy: 0.9557\t\t| Test Balanced Accuracy: 0.9554\n",
      "------------------------------------------------------------------------------------------------------------------------\n",
      "Epoch: 85/100\t| Training Loss: 1.4944\t| Training Accuracy: 0.9698\t| Training Balanced Accuracy: 0.9696\n",
      "\t\t| Test Loss: 1.5056\t| Test Accuracy: 0.9563\t\t| Test Balanced Accuracy: 0.9559\n",
      "------------------------------------------------------------------------------------------------------------------------\n",
      "Epoch: 100/100\t| Training Loss: 1.4895\t| Training Accuracy: 0.9744\t| Training Balanced Accuracy: 0.9742\n",
      "\t\t| Test Loss: 1.5026\t| Test Accuracy: 0.9603\t\t| Test Balanced Accuracy: 0.9599\n",
      "------------------------------------------------------------------------------------------------------------------------\n"
     ]
    }
   ],
   "source": [
    "train_losses = []\n",
    "test_losses = []\n",
    "\n",
    "train_accuracies = []\n",
    "test_accuracies = []\n",
    "\n",
    "train_balanced_accuracies = []\n",
    "test_balanced_accuracies = []\n",
    "\n",
    "for e in range(epochs):\n",
    "    train_loss, train_accuracy, train_balanced_accuracy = train() # Train model\n",
    "    test_loss, test_accuracy, test_balanced_accuracy = test() # Test model\n",
    "    \n",
    "    # Performance tracking\n",
    "    train_losses.append(train_loss)\n",
    "    test_losses.append(test_loss)\n",
    "    train_accuracies.append(train_accuracy)\n",
    "    test_accuracies.append(test_accuracy)\n",
    "    train_balanced_accuracies.append(train_balanced_accuracy)\n",
    "    test_balanced_accuracies.append(test_balanced_accuracy)\n",
    "    \n",
    "    if (e+1) % print_frequency == 0:\n",
    "        print('------------------------------------------------------------------------------------------------------------------------')\n",
    "        print(f'Epoch: {e + 1}/{epochs}\\t| Training Loss: {train_loss:.4f}\\t| Training Accuracy: {train_accuracy:.4f}\\t| Training Balanced Accuracy: {train_balanced_accuracy:.4f}')\n",
    "        print(f'\\t\\t| Test Loss: {test_loss:.4f}\\t| Test Accuracy: {test_accuracy:.4f}\\t\\t| Test Balanced Accuracy: {test_balanced_accuracy:.4f}')\n",
    "                \n",
    "    scheduler.step(test_loss)\n",
    "\n",
    "print('------------------------------------------------------------------------------------------------------------------------')"
   ]
  },
  {
   "cell_type": "markdown",
   "id": "c695f488-56b1-420c-b6e1-6f813146413f",
   "metadata": {},
   "source": [
    "# Performance plots"
   ]
  },
  {
   "cell_type": "markdown",
   "id": "e8d0b6b4-8f41-45c4-88ee-5e91de207bdc",
   "metadata": {},
   "source": [
    "### Training Performance"
   ]
  },
  {
   "cell_type": "code",
   "execution_count": 15,
   "id": "9a19e449-0871-441d-979b-d231623b5321",
   "metadata": {},
   "outputs": [
    {
     "data": {
      "image/png": "[encoded data removed]",
      "text/plain": [
       "<Figure size 1080x720 with 3 Axes>"
      ]
     },
     "metadata": {
      "needs_background": "light"
     },
     "output_type": "display_data"
    }
   ],
   "source": [
    "fig, axs = plt.subplots(2,2,figsize=(15,10))\n",
    "\n",
    "# Loss\n",
    "axs[0,0].plot(train_losses, label='Training')\n",
    "axs[0,0].plot(test_losses, label='Test')\n",
    "axs[0,0].legend()\n",
    "axs[0,0].set_title(f'Model Loss ({criterion.__class__.__name__})')\n",
    "axs[0,0].set_xlabel('Epoch')\n",
    "axs[0,0].set_ylabel('Loss')\n",
    "\n",
    "# Accuracy\n",
    "axs[0,1].plot(train_accuracies, label='Training')\n",
    "axs[0,1].plot(test_accuracies, label='Test')\n",
    "axs[0,1].legend()\n",
    "axs[0,1].set_title('Accuracy')\n",
    "axs[0,1].set_xlabel('Epoch')\n",
    "axs[0,1].set_ylabel('Loss')\n",
    "\n",
    "# Balanced Accuracy\n",
    "axs[1,1].plot(train_balanced_accuracies, label='Training')\n",
    "axs[1,1].plot(test_balanced_accuracies, label='Test')\n",
    "axs[1,1].legend()\n",
    "axs[1,1].set_title('Balanced Accuracy')\n",
    "axs[1,1].set_xlabel('Epoch')\n",
    "axs[1,1].set_ylabel('Balanced Accuracy')\n",
    "\n",
    "fig.delaxes(axs[1,0])\n",
    "\n",
    "plt.show()"
   ]
  },
  {
   "cell_type": "code",
   "execution_count": null,
   "id": "03e3f58e-dee0-4550-8dfc-85c75f93eafc",
   "metadata": {},
   "outputs": [],
   "source": []
  }
 ],
 "metadata": {
  "kernelspec": {
   "display_name": "Python 3",
   "language": "python",
   "name": "python3"
  },
  "language_info": {
   "codemirror_mode": {
    "name": "ipython",
    "version": 3
   },
   "file_extension": ".py",
   "mimetype": "text/x-python",
   "name": "python",
   "nbconvert_exporter": "python",
   "pygments_lexer": "ipython3",
   "version": "3.6.3"
  }
 },
 "nbformat": 4,
 "nbformat_minor": 5
}
