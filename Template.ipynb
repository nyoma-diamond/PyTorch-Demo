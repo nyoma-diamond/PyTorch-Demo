{
 "cells": [
  {
   "cell_type": "markdown",
   "id": "13c958ee-9f59-4065-a1a6-cd1a991b2c8c",
   "metadata": {},
   "source": [
    "# PyTorch Demo"
   ]
  },
  {
   "cell_type": "markdown",
   "id": "abcdd4a3-12aa-4597-b1c0-8c5c5eab3b72",
   "metadata": {},
   "source": [
    "# Imports & Setup"
   ]
  },
  {
   "cell_type": "code",
   "execution_count": null,
   "id": "e3c637de-5c5a-4f3d-9106-f6ecea8c8254",
   "metadata": {
    "pycharm": {
     "is_executing": true
    }
   },
   "outputs": [],
   "source": [
    "import numpy as np\n",
    "import matplotlib.pyplot as plt\n",
    "\n",
    "import torch\n",
    "from torch import nn\n",
    "from torch.utils.data import DataLoader\n",
    "\n",
    "from torchvision.datasets import MNIST\n",
    "from torchvision import transforms\n",
    "\n",
    "from sklearn.metrics import confusion_matrix"
   ]
  },
  {
   "cell_type": "markdown",
   "id": "f1491fb6-3929-4f9a-a021-6a92f7badfc5",
   "metadata": {},
   "source": [
    "### Check Cuda Availability"
   ]
  },
  {
   "cell_type": "code",
   "execution_count": null,
   "id": "0ee15525-1739-46f5-b7a9-f87444759d7d",
   "metadata": {
    "pycharm": {
     "is_executing": true
    }
   },
   "outputs": [],
   "source": [
    "cuda_available = torch.cuda.is_available()\n",
    "print(f'CUDA Available: {cuda_available}')\n",
    "if cuda_available:\n",
    "    print('CUDA device:', torch.cuda.get_device_name(0))"
   ]
  },
  {
   "cell_type": "markdown",
   "id": "047d4ddf-85e1-4aa1-8560-ca252fe70c8e",
   "metadata": {},
   "source": [
    "# Data Loading & Preprocessing"
   ]
  },
  {
   "cell_type": "markdown",
   "id": "0b8bf58c-4ce6-4bc1-8970-fbff9ceab144",
   "metadata": {},
   "source": [
    "### Dataset Transforms"
   ]
  },
  {
   "cell_type": "code",
   "execution_count": null,
   "id": "5b50d73d-f9cc-4071-ae9b-3b3fa3dece6b",
   "metadata": {
    "pycharm": {
     "is_executing": true
    }
   },
   "outputs": [],
   "source": [
    "transform = transforms.Compose([\n",
    "    transforms.ToTensor(),                                 # Transform images to tensors\n",
    "    lambda image: image.view(image.size(1), image.size(2)) # Remove color channel dimension, since we only have black and white\n",
    "])"
   ]
  },
  {
   "cell_type": "markdown",
   "id": "d54333f5-f326-4442-b95a-18a15c83b995",
   "metadata": {},
   "source": [
    "### Getting the data, transforming, and loading it"
   ]
  },
  {
   "cell_type": "code",
   "execution_count": null,
   "id": "1fcf9f38-be09-4734-a03a-2fe3a441fae4",
   "metadata": {
    "tags": [],
    "pycharm": {
     "is_executing": true
    }
   },
   "outputs": [],
   "source": [
    "mnist_train = MNIST(root=\"./\", train=True, download=True, transform=transform)\n",
    "mnist_test = MNIST(root=\"./\", train=False, download=True, transform=transform)\n",
    "\n",
    "train_loader = DataLoader(mnist_train, batch_size=10000, shuffle=True)\n",
    "test_loader = DataLoader(mnist_test, batch_size=10000, shuffle=True)"
   ]
  },
  {
   "cell_type": "markdown",
   "id": "26f41381-6395-4769-8874-bcf60087ea95",
   "metadata": {},
   "source": [
    "### Example input"
   ]
  },
  {
   "cell_type": "code",
   "execution_count": null,
   "id": "8e1ab27a-cd64-4d5b-9388-e02bed847b47",
   "metadata": {
    "tags": [],
    "pycharm": {
     "is_executing": true
    }
   },
   "outputs": [],
   "source": [
    "for images, labels in test_loader:\n",
    "    sample_image = images[0]\n",
    "    sample_label = labels[0]\n",
    "    break\n",
    "\n",
    "print('type:', type(sample_image))\n",
    "print('shape:', sample_image.shape)\n",
    "print('raw data:', sample_image)"
   ]
  },
  {
   "cell_type": "markdown",
   "id": "40abf7f8-6de0-428c-af7f-f55f7ddbc341",
   "metadata": {},
   "source": [
    "### Example visual"
   ]
  },
  {
   "cell_type": "code",
   "execution_count": null,
   "id": "0bfa4502-5eeb-4e0d-a11d-4eecf80fcbc6",
   "metadata": {
    "pycharm": {
     "is_executing": true
    }
   },
   "outputs": [],
   "source": [
    "plt.imshow(sample_image, cmap=\"gray\")\n",
    "\n",
    "print('sample lable:', sample_label) # Label tensor\n",
    "plt.show()"
   ]
  },
  {
   "cell_type": "markdown",
   "id": "28350c24-782e-414e-9445-16c7d6c6cb9f",
   "metadata": {},
   "source": [
    "### Reshaping example"
   ]
  },
  {
   "cell_type": "code",
   "execution_count": null,
   "id": "18e90f61-e7a5-49dc-a647-fb9f5c396eac",
   "metadata": {
    "pycharm": {
     "is_executing": true
    }
   },
   "outputs": [],
   "source": [
    "print('original shape:', sample_image.shape)                                                              # Original shape\n",
    "print('reshaped using `view`:', sample_image.view(sample_image.size(0)*sample_image.size(1)).shape)       # View to change shape\n",
    "print('reshaped using `reshape`:', sample_image.reshape(sample_image.size(0)*sample_image.size(1)).shape) # Reshape to change shape\n",
    "print('reshaped using `flatten`:', sample_image.flatten().shape)                                          # Flatten to change shape"
   ]
  },
  {
   "cell_type": "markdown",
   "id": "acb9ae17-403b-4dd4-af5e-1fe9bf77b499",
   "metadata": {},
   "source": [
    "# Neural Network Model"
   ]
  },
  {
   "cell_type": "code",
   "execution_count": null,
   "id": "45fa0b4e-c32c-4b7d-b2e3-8ed910d1f8a1",
   "metadata": {
    "pycharm": {
     "is_executing": true
    }
   },
   "outputs": [],
   "source": [
    "class Model(nn.Module):\n",
    "    # Model initialization\n",
    "    def __init__(self):\n",
    "        super(Model, self).__init__()\n",
    "\n",
    "        # Hidden layer initialization\n",
    "        # Fill me in!\n",
    "\n",
    "        # Output layer initialization\n",
    "        # Fill me in!\n",
    "\n",
    "        # Activation functions\n",
    "        # Fill me in!\n",
    "        \n",
    "    # Model operation\n",
    "    def forward(self, x):\n",
    "        # Fill me in!\n",
    "        return None"
   ]
  },
  {
   "cell_type": "markdown",
   "id": "c4981463-e2e9-4f20-b396-cdb1c237ce4d",
   "metadata": {},
   "source": [
    "### Model Initialization"
   ]
  },
  {
   "cell_type": "code",
   "execution_count": null,
   "id": "b1555865-490d-46ac-894e-1de0790a7e64",
   "metadata": {
    "pycharm": {
     "is_executing": true
    }
   },
   "outputs": [],
   "source": [
    "model = Model()\n",
    "if cuda_available:\n",
    "    model.cuda()\n",
    "\n",
    "print(model)"
   ]
  },
  {
   "cell_type": "markdown",
   "id": "a6df0c86-ec31-4ba9-b6da-48634eddaded",
   "metadata": {},
   "source": [
    "### Training Protocol Initialization"
   ]
  },
  {
   "cell_type": "code",
   "execution_count": null,
   "id": "5d853bcf-b176-44ba-87f6-e1c9945b5c3a",
   "metadata": {
    "pycharm": {
     "is_executing": true
    }
   },
   "outputs": [],
   "source": [
    "criterion = None # Fill me in!  # Loss function\n",
    "optim = None # Fill me in! # Optimizer"
   ]
  },
  {
   "cell_type": "markdown",
   "id": "c5387e9d-5c9f-4c0c-bb0e-1d89922e07b6",
   "metadata": {},
   "source": [
    "# Model Training"
   ]
  },
  {
   "cell_type": "markdown",
   "id": "40f51dad-612b-4c28-b173-3d061e1fbadb",
   "metadata": {},
   "source": [
    "### Defining training function"
   ]
  },
  {
   "cell_type": "code",
   "execution_count": null,
   "outputs": [],
   "source": [
    "# Run a single epoch\n",
    "def run_epoch(train):\n",
    "    if train:\n",
    "        model.train()\n",
    "        loader = train_loader\n",
    "    else:\n",
    "        model.eval()\n",
    "        loader = test_loader\n",
    "\n",
    "    # LOGGING\n",
    "    total_loss = 0.                # Total epoch loss\n",
    "    confusion = np.zeros((10, 10)) # Used for tracking accuracy (10 because of 10 labels)\n",
    "\n",
    "    for x, y in loader:\n",
    "        if cuda_available: # Move tensors over to cuda if present\n",
    "            x = x.cuda()\n",
    "            y = y.cuda()\n",
    "\n",
    "        # Data in the loader is 28x28, but our model expects a flattened tensor\n",
    "        x = x.flatten(start_dim=1, end_dim=2)\n",
    "\n",
    "        # Put data through model, get predictions. This calls the forward() function!\n",
    "        predictions = model(x)\n",
    "\n",
    "        # Calculate loss (how wrong our predictions are)\n",
    "        loss = criterion(predictions, y)\n",
    "\n",
    "        if train:\n",
    "            optim.zero_grad() # Reset gradients\n",
    "            loss.backward()   # Calculate new gradients\n",
    "            optim.step()      # Run optimizer & update weights and biases\n",
    "\n",
    "        # LOGGING\n",
    "        total_loss += loss.item() * predictions.size(0)\n",
    "        confusion += confusion_matrix(y.cpu(), predictions.argmax(dim=1).cpu(), labels=range(10))\n",
    "\n",
    "    return total_loss / len(loader.dataset), \\\n",
    "           confusion.diagonal().sum() / confusion.sum(), \\\n",
    "           (confusion.diagonal() / confusion.sum(axis=1)).mean()"
   ],
   "metadata": {
    "collapsed": false,
    "pycharm": {
     "name": "#%%\n",
     "is_executing": true
    }
   }
  },
  {
   "cell_type": "markdown",
   "id": "4c09690c-f632-42f1-ac9f-a791b702a5c9",
   "metadata": {},
   "source": [
    "### Training"
   ]
  },
  {
   "cell_type": "code",
   "execution_count": null,
   "id": "86214250-9045-41ae-830f-576061a98411",
   "metadata": {
    "pycharm": {
     "is_executing": true
    }
   },
   "outputs": [],
   "source": [
    "epochs = 100\n",
    "print_frequency = 5"
   ]
  },
  {
   "cell_type": "code",
   "execution_count": null,
   "id": "37cfec74-d99f-412b-8d7c-0e132154ce8d",
   "metadata": {
    "pycharm": {
     "is_executing": true
    }
   },
   "outputs": [],
   "source": [
    "train_losses = []\n",
    "test_losses = []\n",
    "\n",
    "train_accuracies = []\n",
    "test_accuracies = []\n",
    "\n",
    "train_balanced_accuracies = []\n",
    "test_balanced_accuracies = []\n",
    "\n",
    "for e in range(epochs):\n",
    "    train_loss, train_accuracy, train_balanced_accuracy = run_epoch(True) # Train model\n",
    "    test_loss, test_accuracy, test_balanced_accuracy = run_epoch(False)   # Test model\n",
    "    \n",
    "    # Performance tracking\n",
    "    train_losses.append(train_loss)\n",
    "    test_losses.append(test_loss)\n",
    "    train_accuracies.append(train_accuracy)\n",
    "    test_accuracies.append(test_accuracy)\n",
    "    train_balanced_accuracies.append(train_balanced_accuracy)\n",
    "    test_balanced_accuracies.append(test_balanced_accuracy)\n",
    "    \n",
    "    if (e+1) % print_frequency == 0:\n",
    "        epoch_counter = f'Epoch: {\" \" * (len(str(epochs)) - len(str(e + 1)))}{e + 1}/{epochs}'\n",
    "        print('----------------------------------------------------------------------------------------------------')\n",
    "        print(f'{epoch_counter} | Train Loss: {train_loss:.4f} | Train Accuracy: {train_accuracy:.4f} | Train Balanced Accuracy: {train_balanced_accuracy:.4f}')\n",
    "        print(f'{\" \" * len(epoch_counter)} |  Test Loss: {test_loss:.4f} |  Test Accuracy: {test_accuracy:.4f} |  Test Balanced Accuracy: {test_balanced_accuracy:.4f}')\n",
    "\n",
    "\n",
    "print('----------------------------------------------------------------------------------------------------')"
   ]
  },
  {
   "cell_type": "markdown",
   "id": "c695f488-56b1-420c-b6e1-6f813146413f",
   "metadata": {},
   "source": [
    "# Performance plots"
   ]
  },
  {
   "cell_type": "code",
   "execution_count": null,
   "id": "9a19e449-0871-441d-979b-d231623b5321",
   "metadata": {
    "pycharm": {
     "name": "#%%\n",
     "is_executing": true
    }
   },
   "outputs": [],
   "source": [
    "fig, axs = plt.subplots(2,2,figsize=(15,10))\n",
    "\n",
    "# Loss\n",
    "axs[0,0].plot(train_losses, label='Training')\n",
    "axs[0,0].plot(test_losses, label='Test')\n",
    "axs[0,0].legend()\n",
    "axs[0,0].set_title(f'Model Loss ({criterion.__class__.__name__})')\n",
    "axs[0,0].set_xlabel('Epoch')\n",
    "axs[0,0].set_ylabel('Loss')\n",
    "\n",
    "# Accuracy\n",
    "axs[0,1].plot(train_accuracies, label='Training')\n",
    "axs[0,1].plot(test_accuracies, label='Test')\n",
    "axs[0,1].legend()\n",
    "axs[0,1].set_title('Accuracy')\n",
    "axs[0,1].set_xlabel('Epoch')\n",
    "axs[0,1].set_ylabel('Loss')\n",
    "\n",
    "# Balanced Accuracy\n",
    "axs[1,1].plot(train_balanced_accuracies, label='Training')\n",
    "axs[1,1].plot(test_balanced_accuracies, label='Test')\n",
    "axs[1,1].legend()\n",
    "axs[1,1].set_title('Balanced Accuracy')\n",
    "axs[1,1].set_xlabel('Epoch')\n",
    "axs[1,1].set_ylabel('Balanced Accuracy')\n",
    "\n",
    "fig.delaxes(axs[1,0])\n",
    "\n",
    "plt.show()"
   ]
  }
 ],
 "metadata": {
  "kernelspec": {
   "display_name": "Python 3",
   "language": "python",
   "name": "python3"
  },
  "language_info": {
   "codemirror_mode": {
    "name": "ipython",
    "version": 3
   },
   "file_extension": ".py",
   "mimetype": "text/x-python",
   "name": "python",
   "nbconvert_exporter": "python",
   "pygments_lexer": "ipython3",
   "version": "3.6.3"
  }
 },
 "nbformat": 4,
 "nbformat_minor": 5
}