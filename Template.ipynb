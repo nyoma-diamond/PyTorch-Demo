{
 "cells": [
  {
   "cell_type": "markdown",
   "id": "abcdd4a3-12aa-4597-b1c0-8c5c5eab3b72",
   "metadata": {},
   "source": [
    "# Imports & Setup\n",
    "Code Cell 1"
   ]
  },
  {
   "cell_type": "code",
   "execution_count": null,
   "id": "e3c637de-5c5a-4f3d-9106-f6ecea8c8254",
   "metadata": {},
   "outputs": [],
   "source": [
    "import numpy as np\n",
    "import matplotlib.pyplot as plt\n",
    "\n",
    "import torch\n",
    "from torch import nn\n",
    "from torch.utils.data import DataLoader\n",
    "\n",
    "from torchvision.datasets import MNIST\n",
    "from torchvision import transforms\n",
    "\n",
    "from sklearn.metrics import confusion_matrix, ConfusionMatrixDisplay"
   ]
  },
  {
   "cell_type": "markdown",
   "id": "f1491fb6-3929-4f9a-a021-6a92f7badfc5",
   "metadata": {},
   "source": [
    "## Check Cuda Availability\n",
    "Code Cell 2"
   ]
  },
  {
   "cell_type": "code",
   "execution_count": null,
   "id": "0ee15525-1739-46f5-b7a9-f87444759d7d",
   "metadata": {},
   "outputs": [],
   "source": [
    "cuda_available = torch.cuda.is_available()\n",
    "print(f'CUDA Available: {cuda_available}')\n",
    "if cuda_available:\n",
    "    print('CUDA device:', torch.cuda.get_device_name(0))"
   ]
  },
  {
   "cell_type": "markdown",
   "id": "047d4ddf-85e1-4aa1-8560-ca252fe70c8e",
   "metadata": {},
   "source": [
    "# Data Loading & Preprocessing\n",
    "## Dataset Transforms\n",
    "Code Cell 3"
   ]
  },
  {
   "cell_type": "code",
   "execution_count": null,
   "id": "5b50d73d-f9cc-4071-ae9b-3b3fa3dece6b",
   "metadata": {},
   "outputs": [],
   "source": [
    "transform = transforms.Compose([\n",
    "    transforms.ToTensor(),                                 # Transform images to tensors\n",
    "    lambda image: image.view(image.size(1), image.size(2)) # Remove color channel dimension, since we only have black and white\n",
    "])"
   ]
  },
  {
   "cell_type": "markdown",
   "id": "d54333f5-f326-4442-b95a-18a15c83b995",
   "metadata": {},
   "source": [
    "## Getting the data, transforming, and loading it\n",
    "Code Cell 4"
   ]
  },
  {
   "cell_type": "code",
   "execution_count": null,
   "id": "1fcf9f38-be09-4734-a03a-2fe3a441fae4",
   "metadata": {
    "tags": []
   },
   "outputs": [],
   "source": [
    "# Get and load data\n",
    "mnist_train = MNIST(root=\"./\", train=True, download=True, transform=transform)\n",
    "mnist_test = MNIST(root=\"./\", train=False, download=True, transform=transform)\n",
    "\n",
    "# DataLoaders\n",
    "# Fill me in!"
   ]
  },
  {
   "cell_type": "markdown",
   "id": "26f41381-6395-4769-8874-bcf60087ea95",
   "metadata": {},
   "source": [
    "## Example Input: Raw Data\n",
    "Code Cell 5"
   ]
  },
  {
   "cell_type": "code",
   "execution_count": null,
   "id": "8e1ab27a-cd64-4d5b-9388-e02bed847b47",
   "metadata": {
    "tags": []
   },
   "outputs": [],
   "source": [
    "# Fill me in!"
   ]
  },
  {
   "cell_type": "markdown",
   "id": "40abf7f8-6de0-428c-af7f-f55f7ddbc341",
   "metadata": {},
   "source": [
    "## Example Input: Visualization\n",
    "Code Cell 6"
   ]
  },
  {
   "cell_type": "code",
   "execution_count": null,
   "id": "0bfa4502-5eeb-4e0d-a11d-4eecf80fcbc6",
   "metadata": {},
   "outputs": [],
   "source": [
    "# Fill me in!"
   ]
  },
  {
   "cell_type": "markdown",
   "id": "28350c24-782e-414e-9445-16c7d6c6cb9f",
   "metadata": {},
   "source": [
    "## Example Input: Reshaping Data\n",
    "Code Cell 7"
   ]
  },
  {
   "cell_type": "code",
   "execution_count": null,
   "id": "18e90f61-e7a5-49dc-a647-fb9f5c396eac",
   "metadata": {},
   "outputs": [],
   "source": [
    "# Fill me in!"
   ]
  },
  {
   "cell_type": "markdown",
   "id": "acb9ae17-403b-4dd4-af5e-1fe9bf77b499",
   "metadata": {},
   "source": [
    "# Neural Network Model\n",
    "Code Cell 8"
   ]
  },
  {
   "cell_type": "code",
   "execution_count": null,
   "id": "45fa0b4e-c32c-4b7d-b2e3-8ed910d1f8a1",
   "metadata": {},
   "outputs": [],
   "source": [
    "class Model(nn.Module):\n",
    "    # Model initialization\n",
    "    def __init__(self):\n",
    "        super(Model, self).__init__()\n",
    "\n",
    "        # Hidden layers\n",
    "        # Fill me in!\n",
    "\n",
    "        # Output layer\n",
    "        # Fill me in!\n",
    "\n",
    "        # Activation functions\n",
    "        # Fill me in!\n",
    "        \n",
    "    # Model operation\n",
    "    def forward(self, x):\n",
    "        # Fill me in!\n",
    "        return None"
   ]
  },
  {
   "cell_type": "markdown",
   "id": "c4981463-e2e9-4f20-b396-cdb1c237ce4d",
   "metadata": {},
   "source": [
    "## Model Initialization\n",
    "Code Cell 9"
   ]
  },
  {
   "cell_type": "code",
   "execution_count": null,
   "id": "b1555865-490d-46ac-894e-1de0790a7e64",
   "metadata": {},
   "outputs": [],
   "source": [
    "# Fill me in!"
   ]
  },
  {
   "cell_type": "markdown",
   "id": "a6df0c86-ec31-4ba9-b6da-48634eddaded",
   "metadata": {},
   "source": [
    "## Training Protocol Initialization\n",
    "Code Cell 10"
   ]
  },
  {
   "cell_type": "code",
   "execution_count": null,
   "id": "5d853bcf-b176-44ba-87f6-e1c9945b5c3a",
   "metadata": {},
   "outputs": [],
   "source": [
    "# Fill me in!"
   ]
  },
  {
   "cell_type": "markdown",
   "id": "c5387e9d-5c9f-4c0c-bb0e-1d89922e07b6",
   "metadata": {},
   "source": [
    "# Model Training\n",
    "## Defining training function\n",
    "Code Cell 11"
   ]
  },
  {
   "cell_type": "code",
   "execution_count": null,
   "outputs": [],
   "source": [
    "# Run a single epoch\n",
    "def run_epoch(train):\n",
    "    # Set model mode and desired dataloader\n",
    "    # Fill me in!\n",
    "\n",
    "    # Fit batches\n",
    "    # Fill me in!\n",
    "\n",
    "    return None"
   ],
   "metadata": {
    "collapsed": false,
    "pycharm": {
     "name": "#%%\n"
    }
   }
  },
  {
   "cell_type": "markdown",
   "id": "4c09690c-f632-42f1-ac9f-a791b702a5c9",
   "metadata": {},
   "source": [
    "## Training Variables\n",
    "Code Cell 12"
   ]
  },
  {
   "cell_type": "code",
   "execution_count": null,
   "id": "37cfec74-d99f-412b-8d7c-0e132154ce8d",
   "metadata": {},
   "outputs": [],
   "source": [
    "# Fill me in!"
   ]
  },
  {
   "cell_type": "markdown",
   "source": [
    "## THE TRAINING LOOP!\n",
    "Code Cell 13"
   ],
   "metadata": {
    "collapsed": false,
    "pycharm": {
     "name": "#%% md\n"
    }
   }
  },
  {
   "cell_type": "code",
   "execution_count": null,
   "outputs": [],
   "source": [
    "# Fill me in!"
   ],
   "metadata": {
    "collapsed": false,
    "pycharm": {
     "name": "#%%\n"
    }
   }
  },
  {
   "cell_type": "markdown",
   "id": "c695f488-56b1-420c-b6e1-6f813146413f",
   "metadata": {},
   "source": [
    "# Prediction Performance\n",
    "Code Cell 14"
   ]
  },
  {
   "cell_type": "code",
   "execution_count": null,
   "id": "9a19e449-0871-441d-979b-d231623b5321",
   "metadata": {
    "pycharm": {
     "name": "#%%\n"
    }
   },
   "outputs": [],
   "source": [
    "# Fill me in!"
   ]
  }
 ],
 "metadata": {
  "kernelspec": {
   "display_name": "Python 3",
   "language": "python",
   "name": "python3"
  },
  "language_info": {
   "codemirror_mode": {
    "name": "ipython",
    "version": 3
   },
   "file_extension": ".py",
   "mimetype": "text/x-python",
   "name": "python",
   "nbconvert_exporter": "python",
   "pygments_lexer": "ipython3",
   "version": "3.6.3"
  }
 },
 "nbformat": 4,
 "nbformat_minor": 5
}