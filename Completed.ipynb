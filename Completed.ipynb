{
 "cells": [
  {
   "cell_type": "markdown",
   "id": "13c958ee-9f59-4065-a1a6-cd1a991b2c8c",
   "metadata": {},
   "source": [
    "# PyTorch Demo"
   ]
  },
  {
   "cell_type": "markdown",
   "id": "abcdd4a3-12aa-4597-b1c0-8c5c5eab3b72",
   "metadata": {},
   "source": [
    "# Imports & Setup"
   ]
  },
  {
   "cell_type": "code",
   "execution_count": 1,
   "id": "e3c637de-5c5a-4f3d-9106-f6ecea8c8254",
   "metadata": {},
   "outputs": [],
   "source": [
    "import numpy as np\n",
    "import matplotlib.pyplot as plt\n",
    "\n",
    "import torch\n",
    "from torch import nn\n",
    "from torch.utils.data import DataLoader\n",
    "\n",
    "from torchvision.datasets import MNIST\n",
    "from torchvision import transforms\n",
    "\n",
    "from sklearn.metrics import confusion_matrix"
   ]
  },
  {
   "cell_type": "markdown",
   "id": "f1491fb6-3929-4f9a-a021-6a92f7badfc5",
   "metadata": {},
   "source": [
    "### Check Cuda Availability"
   ]
  },
  {
   "cell_type": "code",
   "execution_count": 2,
   "id": "0ee15525-1739-46f5-b7a9-f87444759d7d",
   "metadata": {},
   "outputs": [
    {
     "name": "stdout",
     "output_type": "stream",
     "text": [
      "CUDA Available: True\n",
      "CUDA device: NVIDIA A100-PCIE-40GB MIG 1g.5gb\n"
     ]
    }
   ],
   "source": [
    "cuda_available = torch.cuda.is_available()\n",
    "print(f'CUDA Available: {cuda_available}')\n",
    "if cuda_available:\n",
    "    print('CUDA device:', torch.cuda.get_device_name(0))"
   ]
  },
  {
   "cell_type": "markdown",
   "id": "047d4ddf-85e1-4aa1-8560-ca252fe70c8e",
   "metadata": {},
   "source": [
    "# Data Loading & Preprocessing"
   ]
  },
  {
   "cell_type": "markdown",
   "id": "0b8bf58c-4ce6-4bc1-8970-fbff9ceab144",
   "metadata": {},
   "source": [
    "### Dataset Transforms"
   ]
  },
  {
   "cell_type": "code",
   "execution_count": 3,
   "id": "5b50d73d-f9cc-4071-ae9b-3b3fa3dece6b",
   "metadata": {},
   "outputs": [],
   "source": [
    "transform = transforms.Compose([\n",
    "    transforms.ToTensor(),                                 # Transform images to tensors\n",
    "    lambda image: image.view(image.size(1), image.size(2)) # Remove color channel dimension, since we only have black and white\n",
    "])"
   ]
  },
  {
   "cell_type": "markdown",
   "id": "d54333f5-f326-4442-b95a-18a15c83b995",
   "metadata": {},
   "source": [
    "### Getting the data, transforming, and loading it"
   ]
  },
  {
   "cell_type": "code",
   "execution_count": 4,
   "id": "1fcf9f38-be09-4734-a03a-2fe3a441fae4",
   "metadata": {
    "tags": []
   },
   "outputs": [],
   "source": [
    "mnist_train = MNIST(root=\"./\", train=True, download=True, transform=transform)\n",
    "mnist_test = MNIST(root=\"./\", train=False, download=True, transform=transform)\n",
    "\n",
    "train_loader = DataLoader(mnist_train, batch_size=10000, shuffle=True)\n",
    "test_loader = DataLoader(mnist_test, batch_size=10000, shuffle=True)"
   ]
  },
  {
   "cell_type": "markdown",
   "id": "26f41381-6395-4769-8874-bcf60087ea95",
   "metadata": {},
   "source": [
    "### Example input"
   ]
  },
  {
   "cell_type": "code",
   "execution_count": 5,
   "id": "8e1ab27a-cd64-4d5b-9388-e02bed847b47",
   "metadata": {
    "tags": []
   },
   "outputs": [
    {
     "name": "stdout",
     "output_type": "stream",
     "text": [
      "type: <class 'torch.Tensor'>\n",
      "shape: torch.Size([28, 28])\n",
      "raw data: tensor([[0.0000, 0.0000, 0.0000, 0.0000, 0.0000, 0.0000, 0.0000, 0.0000, 0.0000,\n",
      "         0.0000, 0.0000, 0.0000, 0.0000, 0.0000, 0.0000, 0.0000, 0.0000, 0.0000,\n",
      "         0.0000, 0.0000, 0.0000, 0.0000, 0.0000, 0.0000, 0.0000, 0.0000, 0.0000,\n",
      "         0.0000],\n",
      "        [0.0000, 0.0000, 0.0000, 0.0000, 0.0000, 0.0000, 0.0000, 0.0000, 0.0000,\n",
      "         0.0000, 0.0000, 0.0000, 0.0000, 0.0000, 0.0000, 0.0000, 0.0000, 0.0000,\n",
      "         0.0000, 0.0000, 0.0000, 0.0000, 0.0000, 0.0000, 0.0000, 0.0000, 0.0000,\n",
      "         0.0000],\n",
      "        [0.0000, 0.0000, 0.0000, 0.0000, 0.0000, 0.0000, 0.0000, 0.0000, 0.0000,\n",
      "         0.0000, 0.0000, 0.8275, 0.8784, 0.7098, 0.0863, 0.0000, 0.0000, 0.0000,\n",
      "         0.0000, 0.0000, 0.0000, 0.0000, 0.0000, 0.0000, 0.0000, 0.0000, 0.0000,\n",
      "         0.0000],\n",
      "        [0.0000, 0.0000, 0.0000, 0.0000, 0.0000, 0.0000, 0.0000, 0.0000, 0.0000,\n",
      "         0.0000, 0.0000, 0.3608, 0.6275, 0.9961, 0.8392, 0.1922, 0.0000, 0.0000,\n",
      "         0.0000, 0.0000, 0.0000, 0.0000, 0.0000, 0.0000, 0.0000, 0.0000, 0.0000,\n",
      "         0.0000],\n",
      "        [0.0000, 0.0000, 0.0000, 0.0000, 0.0000, 0.0000, 0.0000, 0.0000, 0.0000,\n",
      "         0.0000, 0.0000, 0.0000, 0.0078, 0.5686, 0.9961, 0.5922, 0.0000, 0.0000,\n",
      "         0.0000, 0.0000, 0.0000, 0.0000, 0.0000, 0.0000, 0.0000, 0.0000, 0.0000,\n",
      "         0.0000],\n",
      "        [0.0000, 0.0000, 0.0000, 0.0000, 0.0000, 0.0000, 0.0000, 0.0000, 0.0000,\n",
      "         0.0000, 0.0000, 0.0000, 0.0000, 0.0667, 0.8431, 0.9961, 0.3137, 0.0000,\n",
      "         0.0000, 0.0000, 0.0000, 0.0000, 0.0000, 0.0000, 0.0000, 0.0000, 0.0000,\n",
      "         0.0000],\n",
      "        [0.0000, 0.0000, 0.0000, 0.0000, 0.0000, 0.0000, 0.0000, 0.0000, 0.0000,\n",
      "         0.0000, 0.0000, 0.0000, 0.0000, 0.0000, 0.7216, 0.9961, 0.6941, 0.0078,\n",
      "         0.0000, 0.0000, 0.0000, 0.0000, 0.0000, 0.0000, 0.0000, 0.0000, 0.0000,\n",
      "         0.0000],\n",
      "        [0.0000, 0.0000, 0.0000, 0.0000, 0.0000, 0.0000, 0.0000, 0.0000, 0.0000,\n",
      "         0.0000, 0.0000, 0.0000, 0.0000, 0.0000, 0.5569, 0.9961, 0.9961, 0.0314,\n",
      "         0.0000, 0.0000, 0.0000, 0.0000, 0.0000, 0.0000, 0.0000, 0.0000, 0.0000,\n",
      "         0.0000],\n",
      "        [0.0000, 0.0000, 0.0000, 0.0000, 0.0000, 0.0000, 0.0000, 0.0000, 0.0000,\n",
      "         0.0000, 0.0000, 0.0000, 0.0000, 0.0000, 0.2275, 0.9961, 1.0000, 0.1882,\n",
      "         0.0000, 0.0000, 0.0000, 0.0000, 0.0000, 0.0000, 0.0000, 0.0000, 0.0000,\n",
      "         0.0000],\n",
      "        [0.0000, 0.0000, 0.0000, 0.0000, 0.0000, 0.0000, 0.0000, 0.0000, 0.0000,\n",
      "         0.0000, 0.0000, 0.0000, 0.0000, 0.0000, 0.0118, 0.7608, 0.9765, 0.1137,\n",
      "         0.0000, 0.0000, 0.0000, 0.0000, 0.0000, 0.0000, 0.0000, 0.0000, 0.0000,\n",
      "         0.0000],\n",
      "        [0.0000, 0.0000, 0.0000, 0.0000, 0.0000, 0.0000, 0.0000, 0.0000, 0.0000,\n",
      "         0.0000, 0.0000, 0.0000, 0.0000, 0.0000, 0.0157, 0.8039, 0.6863, 0.0000,\n",
      "         0.0000, 0.0000, 0.0000, 0.0000, 0.0000, 0.0000, 0.0000, 0.0000, 0.0000,\n",
      "         0.0000],\n",
      "        [0.0000, 0.0000, 0.0000, 0.0000, 0.0000, 0.0000, 0.0000, 0.0000, 0.0000,\n",
      "         0.0000, 0.0000, 0.0000, 0.0000, 0.0000, 0.0353, 0.9961, 0.4549, 0.0000,\n",
      "         0.0000, 0.0000, 0.0000, 0.0000, 0.0000, 0.0000, 0.0000, 0.0000, 0.0000,\n",
      "         0.0000],\n",
      "        [0.0000, 0.0000, 0.0000, 0.0000, 0.0000, 0.0000, 0.0000, 0.0000, 0.0000,\n",
      "         0.0000, 0.0000, 0.0000, 0.0000, 0.0000, 0.6039, 0.9961, 0.2392, 0.0000,\n",
      "         0.0000, 0.0000, 0.0000, 0.0000, 0.0000, 0.0000, 0.0000, 0.0000, 0.0000,\n",
      "         0.0000],\n",
      "        [0.0000, 0.0000, 0.0000, 0.0000, 0.0000, 0.0000, 0.0000, 0.0000, 0.0000,\n",
      "         0.0000, 0.0000, 0.0000, 0.0000, 0.0196, 0.7961, 0.9961, 0.0000, 0.0000,\n",
      "         0.0000, 0.0000, 0.0000, 0.0000, 0.0000, 0.0000, 0.0000, 0.0000, 0.0000,\n",
      "         0.0000],\n",
      "        [0.0000, 0.0000, 0.0000, 0.0000, 0.0000, 0.0000, 0.0000, 0.0000, 0.0000,\n",
      "         0.0000, 0.0000, 0.0000, 0.0000, 0.4784, 0.9961, 0.4745, 0.0000, 0.0000,\n",
      "         0.0000, 0.0000, 0.0000, 0.0000, 0.0000, 0.0000, 0.0000, 0.0000, 0.0000,\n",
      "         0.0000],\n",
      "        [0.0000, 0.0000, 0.0000, 0.0000, 0.0000, 0.0000, 0.0000, 0.0000, 0.0000,\n",
      "         0.0000, 0.0000, 0.0314, 0.2431, 0.8902, 0.7725, 0.1529, 0.0000, 0.0000,\n",
      "         0.0000, 0.0000, 0.0000, 0.0000, 0.0000, 0.0000, 0.0000, 0.0000, 0.0000,\n",
      "         0.0000],\n",
      "        [0.0000, 0.0000, 0.0000, 0.0000, 0.0000, 0.0000, 0.0000, 0.0000, 0.0431,\n",
      "         0.5529, 0.8588, 0.8784, 0.9961, 0.9961, 0.9333, 0.5137, 0.1765, 0.1255,\n",
      "         0.0000, 0.0000, 0.0000, 0.0000, 0.0000, 0.0000, 0.0000, 0.0000, 0.0000,\n",
      "         0.0000],\n",
      "        [0.0000, 0.0000, 0.0000, 0.0000, 0.0000, 0.0000, 0.0000, 0.0392, 0.8196,\n",
      "         0.9961, 0.8980, 0.9961, 0.9961, 0.9843, 0.8627, 0.9961, 0.9961, 0.9490,\n",
      "         0.7412, 0.4863, 0.1608, 0.0000, 0.0000, 0.0000, 0.0000, 0.0000, 0.0000,\n",
      "         0.0000],\n",
      "        [0.0000, 0.0000, 0.0000, 0.0000, 0.0000, 0.0000, 0.0000, 0.5843, 0.9961,\n",
      "         0.9961, 0.7333, 0.9961, 0.4863, 0.1922, 0.0078, 0.2039, 0.4314, 0.5451,\n",
      "         0.8941, 0.9961, 0.9608, 0.6235, 0.4510, 0.1451, 0.0000, 0.0000, 0.0000,\n",
      "         0.0000],\n",
      "        [0.0000, 0.0000, 0.0000, 0.0000, 0.0000, 0.0000, 0.0000, 0.9647, 0.9961,\n",
      "         0.9961, 0.9961, 0.7216, 0.0510, 0.0000, 0.0000, 0.0000, 0.0000, 0.0000,\n",
      "         0.0588, 0.4314, 0.7608, 0.9333, 0.9961, 0.8941, 0.2314, 0.0000, 0.0000,\n",
      "         0.0000],\n",
      "        [0.0000, 0.0000, 0.0000, 0.0000, 0.0000, 0.0000, 0.0000, 0.8196, 0.9961,\n",
      "         0.9961, 0.4902, 0.0471, 0.0000, 0.0000, 0.0000, 0.0000, 0.0000, 0.0000,\n",
      "         0.0000, 0.0000, 0.0000, 0.0392, 0.2745, 0.5451, 0.3843, 0.0000, 0.0000,\n",
      "         0.0000],\n",
      "        [0.0000, 0.0000, 0.0000, 0.0000, 0.0000, 0.0000, 0.0000, 0.0863, 0.7451,\n",
      "         0.3451, 0.0431, 0.0000, 0.0000, 0.0000, 0.0000, 0.0000, 0.0000, 0.0000,\n",
      "         0.0000, 0.0000, 0.0000, 0.0000, 0.0000, 0.1098, 0.0000, 0.0000, 0.0000,\n",
      "         0.0000],\n",
      "        [0.0000, 0.0000, 0.0000, 0.0000, 0.0000, 0.0000, 0.0000, 0.0000, 0.0000,\n",
      "         0.0000, 0.0000, 0.0000, 0.0000, 0.0000, 0.0000, 0.0000, 0.0000, 0.0000,\n",
      "         0.0000, 0.0000, 0.0000, 0.0000, 0.0000, 0.0000, 0.0000, 0.0000, 0.0000,\n",
      "         0.0000],\n",
      "        [0.0000, 0.0000, 0.0000, 0.0000, 0.0000, 0.0000, 0.0000, 0.0000, 0.0000,\n",
      "         0.0000, 0.0000, 0.0000, 0.0000, 0.0000, 0.0000, 0.0000, 0.0000, 0.0000,\n",
      "         0.0000, 0.0000, 0.0000, 0.0000, 0.0000, 0.0000, 0.0000, 0.0000, 0.0000,\n",
      "         0.0000],\n",
      "        [0.0000, 0.0000, 0.0000, 0.0000, 0.0000, 0.0000, 0.0000, 0.0000, 0.0000,\n",
      "         0.0000, 0.0000, 0.0000, 0.0000, 0.0000, 0.0000, 0.0000, 0.0000, 0.0000,\n",
      "         0.0000, 0.0000, 0.0000, 0.0000, 0.0000, 0.0000, 0.0000, 0.0000, 0.0000,\n",
      "         0.0000],\n",
      "        [0.0000, 0.0000, 0.0000, 0.0000, 0.0000, 0.0000, 0.0000, 0.0000, 0.0000,\n",
      "         0.0000, 0.0000, 0.0000, 0.0000, 0.0000, 0.0000, 0.0000, 0.0000, 0.0000,\n",
      "         0.0000, 0.0000, 0.0000, 0.0000, 0.0000, 0.0000, 0.0000, 0.0000, 0.0000,\n",
      "         0.0000],\n",
      "        [0.0000, 0.0000, 0.0000, 0.0000, 0.0000, 0.0000, 0.0000, 0.0000, 0.0000,\n",
      "         0.0000, 0.0000, 0.0000, 0.0000, 0.0000, 0.0000, 0.0000, 0.0000, 0.0000,\n",
      "         0.0000, 0.0000, 0.0000, 0.0000, 0.0000, 0.0000, 0.0000, 0.0000, 0.0000,\n",
      "         0.0000],\n",
      "        [0.0000, 0.0000, 0.0000, 0.0000, 0.0000, 0.0000, 0.0000, 0.0000, 0.0000,\n",
      "         0.0000, 0.0000, 0.0000, 0.0000, 0.0000, 0.0000, 0.0000, 0.0000, 0.0000,\n",
      "         0.0000, 0.0000, 0.0000, 0.0000, 0.0000, 0.0000, 0.0000, 0.0000, 0.0000,\n",
      "         0.0000]])\n"
     ]
    }
   ],
   "source": [
    "for images, labels in test_loader:\n",
    "    sample_image = images[0]\n",
    "    sample_label = labels[0]\n",
    "    break\n",
    "\n",
    "print('type:', type(sample_image))\n",
    "print('shape:', sample_image.shape)\n",
    "print('raw data:', sample_image)"
   ]
  },
  {
   "cell_type": "markdown",
   "id": "40abf7f8-6de0-428c-af7f-f55f7ddbc341",
   "metadata": {},
   "source": [
    "### Example visual"
   ]
  },
  {
   "cell_type": "code",
   "execution_count": 6,
   "id": "0bfa4502-5eeb-4e0d-a11d-4eecf80fcbc6",
   "metadata": {},
   "outputs": [
    {
     "name": "stdout",
     "output_type": "stream",
     "text": [
      "sample lable: tensor(2)\n"
     ]
    },
    {
     "data": {
      "text/plain": "<Figure size 640x480 with 1 Axes>",
      "image/png": "[encoded data removed]"
     },
     "metadata": {},
     "output_type": "display_data"
    }
   ],
   "source": [
    "plt.imshow(sample_image, cmap=\"gray\")\n",
    "\n",
    "print('sample lable:', sample_label) # Label tensor\n",
    "plt.show()"
   ]
  },
  {
   "cell_type": "markdown",
   "id": "28350c24-782e-414e-9445-16c7d6c6cb9f",
   "metadata": {},
   "source": [
    "### Reshaping example"
   ]
  },
  {
   "cell_type": "code",
   "execution_count": 7,
   "id": "18e90f61-e7a5-49dc-a647-fb9f5c396eac",
   "metadata": {},
   "outputs": [
    {
     "name": "stdout",
     "output_type": "stream",
     "text": [
      "original shape: torch.Size([28, 28])\n",
      "reshaped using `view`: torch.Size([784])\n",
      "reshaped using `reshape`: torch.Size([784])\n",
      "reshaped using `flatten`: torch.Size([784])\n"
     ]
    }
   ],
   "source": [
    "print('original shape:', sample_image.shape)                                                              # Original shape\n",
    "print('reshaped using `view`:', sample_image.view(sample_image.size(0)*sample_image.size(1)).shape)       # View to change shape\n",
    "print('reshaped using `reshape`:', sample_image.reshape(sample_image.size(0)*sample_image.size(1)).shape) # Reshape to change shape\n",
    "print('reshaped using `flatten`:', sample_image.flatten().shape)                                          # Flatten to change shape"
   ]
  },
  {
   "cell_type": "markdown",
   "id": "acb9ae17-403b-4dd4-af5e-1fe9bf77b499",
   "metadata": {},
   "source": [
    "# Neural Network Model"
   ]
  },
  {
   "cell_type": "code",
   "execution_count": 8,
   "id": "45fa0b4e-c32c-4b7d-b2e3-8ed910d1f8a1",
   "metadata": {},
   "outputs": [],
   "source": [
    "class Model(nn.Module):\n",
    "    # Model initialization\n",
    "    def __init__(self):\n",
    "        super(Model, self).__init__()\n",
    "\n",
    "        # Hidden layer initialization\n",
    "        self.hidden1 = nn.Linear(28*28, 100)\n",
    "        self.hidden2 = nn.Linear(100, 100)\n",
    "        self.hidden3 = nn.Linear(100, 100)\n",
    "\n",
    "        # Output layer initialization\n",
    "        self.out = nn.Linear(100, 10)\n",
    "\n",
    "        # Activation functions\n",
    "        self.relu = nn.ReLU()            # ReLU activation function used on hidden layers\n",
    "        self.softmax = nn.Softmax(dim=1) # SoftMax activation function used on output layer; All values in [0,1] and must sum to 1\n",
    "        \n",
    "    # Model operation\n",
    "    def forward(self, x):\n",
    "        h1 = self.relu(self.hidden1(x))   # hidden layer 1, relu activation\n",
    "        h2 = self.relu(self.hidden2(h1))  # hidden layer 2, relu activation\n",
    "        h3 = self.relu(self.hidden3(h2))  # hidden layer 3, relu activation\n",
    "        return self.softmax(self.out(h3)) # output layer, softmax activation function"
   ]
  },
  {
   "cell_type": "markdown",
   "id": "c4981463-e2e9-4f20-b396-cdb1c237ce4d",
   "metadata": {},
   "source": [
    "### Model Initialization"
   ]
  },
  {
   "cell_type": "code",
   "execution_count": 9,
   "id": "b1555865-490d-46ac-894e-1de0790a7e64",
   "metadata": {},
   "outputs": [
    {
     "name": "stdout",
     "output_type": "stream",
     "text": [
      "Model(\n",
      "  (hidden1): Linear(in_features=784, out_features=100, bias=True)\n",
      "  (hidden2): Linear(in_features=100, out_features=100, bias=True)\n",
      "  (hidden3): Linear(in_features=100, out_features=100, bias=True)\n",
      "  (out): Linear(in_features=100, out_features=10, bias=True)\n",
      "  (relu): ReLU()\n",
      "  (softmax): Softmax(dim=1)\n",
      ")\n"
     ]
    }
   ],
   "source": [
    "model = Model()\n",
    "if cuda_available:\n",
    "    model.cuda()\n",
    "\n",
    "print(model)"
   ]
  },
  {
   "cell_type": "markdown",
   "id": "a6df0c86-ec31-4ba9-b6da-48634eddaded",
   "metadata": {},
   "source": [
    "### Training Protocol Initialization"
   ]
  },
  {
   "cell_type": "code",
   "execution_count": 10,
   "id": "6793471c-24d2-4042-9f39-ee643750556f",
   "metadata": {},
   "outputs": [
    {
     "name": "stdout",
     "output_type": "stream",
     "text": [
      "label counts: [5923 6742 5958 6131 5842 5421 5918 6265 5851 5949]\n",
      "class weights: tensor([1.1383, 1.0000, 1.1316, 1.0997, 1.1541, 1.2437, 1.1392, 1.0761, 1.1523,\n",
      "        1.1333], device='cuda:0')\n"
     ]
    }
   ],
   "source": [
    "counts = np.unique(mnist_train.targets, return_counts=True)[1] # get number of occurrences of each label\n",
    "weights = torch.from_numpy(np.max(counts)/counts).float()      # compute relative weights for each label\n",
    "\n",
    "if cuda_available:\n",
    "    weights = weights.cuda()\n",
    "    \n",
    "print('label counts:', counts)\n",
    "print('class weights:', weights)"
   ]
  },
  {
   "cell_type": "code",
   "execution_count": 11,
   "id": "5d853bcf-b176-44ba-87f6-e1c9945b5c3a",
   "metadata": {},
   "outputs": [],
   "source": [
    "criterion = nn.CrossEntropyLoss(weight=weights)       # Loss function\n",
    "optim = torch.optim.Adam(model.parameters(), lr=1e-3) # Optimizer\n",
    "\n",
    "# Learning Rate scheduler (OPTIONAL)\n",
    "scheduler = torch.optim.lr_scheduler.ReduceLROnPlateau(optim, factor=0.1, patience=5, verbose=True)"
   ]
  },
  {
   "cell_type": "markdown",
   "id": "c5387e9d-5c9f-4c0c-bb0e-1d89922e07b6",
   "metadata": {},
   "source": [
    "# Model Training"
   ]
  },
  {
   "cell_type": "markdown",
   "id": "40f51dad-612b-4c28-b173-3d061e1fbadb",
   "metadata": {},
   "source": [
    "### Defining training function"
   ]
  },
  {
   "cell_type": "code",
   "execution_count": 12,
   "outputs": [],
   "source": [
    "# Run a single epoch\n",
    "def run_epoch(train):\n",
    "    if train:\n",
    "        model.train()\n",
    "        loader = train_loader\n",
    "    else:\n",
    "        model.eval()\n",
    "        loader = test_loader\n",
    "\n",
    "    # LOGGING\n",
    "    total_loss = 0.                # Total epoch loss\n",
    "    confusion = np.zeros((10, 10)) # Used for tracking accuracy (10 because of 10 labels)\n",
    "\n",
    "    for x, y in loader:\n",
    "        if cuda_available: # Move tensors over to cuda if present\n",
    "            x = x.cuda()\n",
    "            y = y.cuda()\n",
    "\n",
    "        # Data in the loader is 28x28, but our model expects a flattened tensor\n",
    "        x = x.flatten(start_dim=1, end_dim=2)\n",
    "\n",
    "        # Put data through model, get predictions. This calls the forward() function!\n",
    "        predictions = model(x)\n",
    "\n",
    "        # Calculate loss (how wrong our predictions are)\n",
    "        loss = criterion(predictions, y)\n",
    "\n",
    "        if train:\n",
    "            optim.zero_grad() # Reset gradients\n",
    "            loss.backward()   # Calculate new gradients\n",
    "            optim.step()      # Run optimizer & update weights and biases\n",
    "\n",
    "        # LOGGING\n",
    "        total_loss += loss.item() * predictions.size(0)\n",
    "        confusion += confusion_matrix(y.cpu(), predictions.argmax(dim=1).cpu(), labels=range(10))\n",
    "\n",
    "    if not train:\n",
    "        scheduler.step(total_loss) # Run learning rate scheduler on\n",
    "\n",
    "    return total_loss / len(loader.dataset), \\\n",
    "           confusion.diagonal().sum() / confusion.sum(), \\\n",
    "           (confusion.diagonal() / confusion.sum(axis=1)).mean()"
   ],
   "metadata": {
    "collapsed": false,
    "pycharm": {
     "name": "#%%\n"
    }
   }
  },
  {
   "cell_type": "markdown",
   "id": "4c09690c-f632-42f1-ac9f-a791b702a5c9",
   "metadata": {},
   "source": [
    "### Training"
   ]
  },
  {
   "cell_type": "code",
   "execution_count": 13,
   "id": "86214250-9045-41ae-830f-576061a98411",
   "metadata": {},
   "outputs": [],
   "source": [
    "epochs = 50\n",
    "print_frequency = 5"
   ]
  },
  {
   "cell_type": "code",
   "execution_count": 14,
   "id": "37cfec74-d99f-412b-8d7c-0e132154ce8d",
   "metadata": {},
   "outputs": [
    {
     "name": "stdout",
     "output_type": "stream",
     "text": [
      "----------------------------------------------------------------------------------------------------\n",
      "Epoch:   5/100 | Train Loss: 1.9832 | Train Accuracy: 0.5532 | Train Balanced Accuracy: 0.5460\n",
      "               |  Test Loss: 1.8949 |  Test Accuracy: 0.6625 |  Test Balanced Accuracy: 0.6550\n",
      "----------------------------------------------------------------------------------------------------\n",
      "Epoch:  10/100 | Train Loss: 1.6124 | Train Accuracy: 0.8720 | Train Balanced Accuracy: 0.8700\n",
      "               |  Test Loss: 1.5978 |  Test Accuracy: 0.8825 |  Test Balanced Accuracy: 0.8805\n",
      "----------------------------------------------------------------------------------------------------\n",
      "Epoch:  15/100 | Train Loss: 1.5690 | Train Accuracy: 0.9035 | Train Balanced Accuracy: 0.9023\n",
      "               |  Test Loss: 1.5651 |  Test Accuracy: 0.9053 |  Test Balanced Accuracy: 0.9039\n",
      "----------------------------------------------------------------------------------------------------\n",
      "Epoch:  20/100 | Train Loss: 1.5538 | Train Accuracy: 0.9173 | Train Balanced Accuracy: 0.9162\n",
      "               |  Test Loss: 1.5524 |  Test Accuracy: 0.9154 |  Test Balanced Accuracy: 0.9140\n",
      "----------------------------------------------------------------------------------------------------\n",
      "Epoch:  25/100 | Train Loss: 1.5433 | Train Accuracy: 0.9258 | Train Balanced Accuracy: 0.9249\n",
      "               |  Test Loss: 1.5443 |  Test Accuracy: 0.9230 |  Test Balanced Accuracy: 0.9216\n",
      "----------------------------------------------------------------------------------------------------\n",
      "Epoch:  30/100 | Train Loss: 1.5363 | Train Accuracy: 0.9316 | Train Balanced Accuracy: 0.9308\n",
      "               |  Test Loss: 1.5388 |  Test Accuracy: 0.9284 |  Test Balanced Accuracy: 0.9272\n",
      "----------------------------------------------------------------------------------------------------\n",
      "Epoch:  35/100 | Train Loss: 1.5305 | Train Accuracy: 0.9372 | Train Balanced Accuracy: 0.9365\n",
      "               |  Test Loss: 1.5341 |  Test Accuracy: 0.9327 |  Test Balanced Accuracy: 0.9316\n",
      "----------------------------------------------------------------------------------------------------\n",
      "Epoch:  40/100 | Train Loss: 1.5254 | Train Accuracy: 0.9416 | Train Balanced Accuracy: 0.9410\n",
      "               |  Test Loss: 1.5300 |  Test Accuracy: 0.9352 |  Test Balanced Accuracy: 0.9342\n",
      "----------------------------------------------------------------------------------------------------\n",
      "Epoch:  45/100 | Train Loss: 1.5214 | Train Accuracy: 0.9454 | Train Balanced Accuracy: 0.9448\n",
      "               |  Test Loss: 1.5269 |  Test Accuracy: 0.9381 |  Test Balanced Accuracy: 0.9374\n",
      "----------------------------------------------------------------------------------------------------\n",
      "Epoch:  50/100 | Train Loss: 1.5172 | Train Accuracy: 0.9492 | Train Balanced Accuracy: 0.9487\n",
      "               |  Test Loss: 1.5234 |  Test Accuracy: 0.9408 |  Test Balanced Accuracy: 0.9400\n",
      "----------------------------------------------------------------------------------------------------\n",
      "Epoch:  55/100 | Train Loss: 1.5144 | Train Accuracy: 0.9515 | Train Balanced Accuracy: 0.9511\n",
      "               |  Test Loss: 1.5211 |  Test Accuracy: 0.9428 |  Test Balanced Accuracy: 0.9420\n",
      "----------------------------------------------------------------------------------------------------\n",
      "Epoch:  60/100 | Train Loss: 1.5109 | Train Accuracy: 0.9547 | Train Balanced Accuracy: 0.9544\n",
      "               |  Test Loss: 1.5184 |  Test Accuracy: 0.9443 |  Test Balanced Accuracy: 0.9437\n",
      "----------------------------------------------------------------------------------------------------\n",
      "Epoch:  65/100 | Train Loss: 1.5080 | Train Accuracy: 0.9573 | Train Balanced Accuracy: 0.9571\n",
      "               |  Test Loss: 1.5166 |  Test Accuracy: 0.9468 |  Test Balanced Accuracy: 0.9461\n",
      "----------------------------------------------------------------------------------------------------\n",
      "Epoch:  70/100 | Train Loss: 1.5058 | Train Accuracy: 0.9593 | Train Balanced Accuracy: 0.9590\n",
      "               |  Test Loss: 1.5147 |  Test Accuracy: 0.9481 |  Test Balanced Accuracy: 0.9476\n",
      "----------------------------------------------------------------------------------------------------\n",
      "Epoch:  75/100 | Train Loss: 1.5037 | Train Accuracy: 0.9612 | Train Balanced Accuracy: 0.9610\n",
      "               |  Test Loss: 1.5131 |  Test Accuracy: 0.9501 |  Test Balanced Accuracy: 0.9495\n",
      "----------------------------------------------------------------------------------------------------\n",
      "Epoch:  80/100 | Train Loss: 1.5015 | Train Accuracy: 0.9633 | Train Balanced Accuracy: 0.9631\n",
      "               |  Test Loss: 1.5118 |  Test Accuracy: 0.9513 |  Test Balanced Accuracy: 0.9509\n",
      "----------------------------------------------------------------------------------------------------\n",
      "Epoch:  85/100 | Train Loss: 1.4999 | Train Accuracy: 0.9646 | Train Balanced Accuracy: 0.9645\n",
      "               |  Test Loss: 1.5104 |  Test Accuracy: 0.9519 |  Test Balanced Accuracy: 0.9515\n",
      "----------------------------------------------------------------------------------------------------\n",
      "Epoch:  90/100 | Train Loss: 1.4987 | Train Accuracy: 0.9659 | Train Balanced Accuracy: 0.9658\n",
      "               |  Test Loss: 1.5095 |  Test Accuracy: 0.9522 |  Test Balanced Accuracy: 0.9517\n",
      "----------------------------------------------------------------------------------------------------\n",
      "Epoch:  95/100 | Train Loss: 1.4965 | Train Accuracy: 0.9678 | Train Balanced Accuracy: 0.9677\n",
      "               |  Test Loss: 1.5084 |  Test Accuracy: 0.9535 |  Test Balanced Accuracy: 0.9531\n",
      "----------------------------------------------------------------------------------------------------\n",
      "Epoch: 100/100 | Train Loss: 1.4952 | Train Accuracy: 0.9691 | Train Balanced Accuracy: 0.9690\n",
      "               |  Test Loss: 1.5075 |  Test Accuracy: 0.9551 |  Test Balanced Accuracy: 0.9548\n",
      "----------------------------------------------------------------------------------------------------\n"
     ]
    }
   ],
   "source": [
    "train_losses = []\n",
    "test_losses = []\n",
    "\n",
    "train_accuracies = []\n",
    "test_accuracies = []\n",
    "\n",
    "train_balanced_accuracies = []\n",
    "test_balanced_accuracies = []\n",
    "\n",
    "for e in range(epochs):\n",
    "    train_loss, train_accuracy, train_balanced_accuracy = run_epoch(True) # Train model\n",
    "    test_loss, test_accuracy, test_balanced_accuracy = run_epoch(False)   # Test model\n",
    "    \n",
    "    # Performance tracking\n",
    "    train_losses.append(train_loss)\n",
    "    test_losses.append(test_loss)\n",
    "    train_accuracies.append(train_accuracy)\n",
    "    test_accuracies.append(test_accuracy)\n",
    "    train_balanced_accuracies.append(train_balanced_accuracy)\n",
    "    test_balanced_accuracies.append(test_balanced_accuracy)\n",
    "    \n",
    "    if (e+1) % print_frequency == 0:\n",
    "        epoch_counter = f'Epoch: {\" \" * (len(str(epochs)) - len(str(e + 1)))}{e + 1}/{epochs}'\n",
    "        print('----------------------------------------------------------------------------------------------------')\n",
    "        print(f'{epoch_counter} | Train Loss: {train_loss:.4f} | Train Accuracy: {train_accuracy:.4f} | Train Balanced Accuracy: {train_balanced_accuracy:.4f}')\n",
    "        print(f'{\" \" * len(epoch_counter)} |  Test Loss: {test_loss:.4f} |  Test Accuracy: {test_accuracy:.4f} |  Test Balanced Accuracy: {test_balanced_accuracy:.4f}')\n",
    "                \n",
    "    scheduler.step(test_loss)\n",
    "\n",
    "print('----------------------------------------------------------------------------------------------------')"
   ]
  },
  {
   "cell_type": "markdown",
   "id": "c695f488-56b1-420c-b6e1-6f813146413f",
   "metadata": {},
   "source": [
    "# Performance plots"
   ]
  },
  {
   "cell_type": "code",
   "execution_count": 15,
   "id": "9a19e449-0871-441d-979b-d231623b5321",
   "metadata": {
    "pycharm": {
     "name": "#%%\n"
    }
   },
   "outputs": [
    {
     "data": {
      "text/plain": "<Figure size 1500x1000 with 3 Axes>",
      "image/png": "[encoded data removed]"
     },
     "metadata": {},
     "output_type": "display_data"
    }
   ],
   "source": [
    "fig, axs = plt.subplots(2,2,figsize=(15,10))\n",
    "\n",
    "# Loss\n",
    "axs[0,0].plot(train_losses, label='Training')\n",
    "axs[0,0].plot(test_losses, label='Test')\n",
    "axs[0,0].legend()\n",
    "axs[0,0].set_title(f'Model Loss ({criterion.__class__.__name__})')\n",
    "axs[0,0].set_xlabel('Epoch')\n",
    "axs[0,0].set_ylabel('Loss')\n",
    "\n",
    "# Accuracy\n",
    "axs[0,1].plot(train_accuracies, label='Training')\n",
    "axs[0,1].plot(test_accuracies, label='Test')\n",
    "axs[0,1].legend()\n",
    "axs[0,1].set_title('Accuracy')\n",
    "axs[0,1].set_xlabel('Epoch')\n",
    "axs[0,1].set_ylabel('Loss')\n",
    "\n",
    "# Balanced Accuracy\n",
    "axs[1,1].plot(train_balanced_accuracies, label='Training')\n",
    "axs[1,1].plot(test_balanced_accuracies, label='Test')\n",
    "axs[1,1].legend()\n",
    "axs[1,1].set_title('Balanced Accuracy')\n",
    "axs[1,1].set_xlabel('Epoch')\n",
    "axs[1,1].set_ylabel('Balanced Accuracy')\n",
    "\n",
    "fig.delaxes(axs[1,0])\n",
    "\n",
    "plt.show()"
   ]
  }
 ],
 "metadata": {
  "kernelspec": {
   "display_name": "Python 3",
   "language": "python",
   "name": "python3"
  },
  "language_info": {
   "codemirror_mode": {
    "name": "ipython",
    "version": 3
   },
   "file_extension": ".py",
   "mimetype": "text/x-python",
   "name": "python",
   "nbconvert_exporter": "python",
   "pygments_lexer": "ipython3",
   "version": "3.6.3"
  }
 },
 "nbformat": 4,
 "nbformat_minor": 5
}